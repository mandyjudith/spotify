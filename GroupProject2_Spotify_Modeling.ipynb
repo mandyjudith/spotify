{
 "metadata": {
  "language_info": {
   "codemirror_mode": {
    "name": "ipython",
    "version": 3
   },
   "file_extension": ".py",
   "mimetype": "text/x-python",
   "name": "python",
   "nbconvert_exporter": "python",
   "pygments_lexer": "ipython3",
   "version": "3.7.6-final"
  },
  "orig_nbformat": 2,
  "kernelspec": {
   "name": "python3",
   "display_name": "Python 3.7.6 64-bit (conda)",
   "metadata": {
    "interpreter": {
     "hash": "65217befdecd77df966a0fc871a0f674f96e08082e68f0c74d27e5780f39628d"
    }
   }
  }
 },
 "nbformat": 4,
 "nbformat_minor": 2,
 "cells": [
  {
   "cell_type": "code",
   "execution_count": null,
   "metadata": {},
   "outputs": [],
   "source": [
    "# Data - Removed Outliers"
   ]
  },
  {
   "cell_type": "code",
   "execution_count": 2,
   "metadata": {},
   "outputs": [],
   "source": [
    "#Importing Libraries\n",
    "import numpy as np  \n",
    "import pandas as pd\n",
    "import matplotlib.pyplot as plt\n",
    "import seaborn as sns\n",
    "%matplotlib inline"
   ]
  },
  {
   "cell_type": "code",
   "execution_count": 3,
   "metadata": {},
   "outputs": [
    {
     "output_type": "execute_result",
     "data": {
      "text/plain": [
       "   danceability  energy  key  loudness  mode  speechiness  acousticness  \\\n",
       "0         0.831   0.814    2    -7.364     1       0.4200        0.0598   \n",
       "1         0.719   0.493    8    -7.230     1       0.0794        0.4010   \n",
       "2         0.850   0.893    5    -4.783     1       0.0623        0.0138   \n",
       "3         0.476   0.781    0    -4.710     1       0.1030        0.0237   \n",
       "4         0.798   0.624    2    -7.668     1       0.2930        0.2170   \n",
       "\n",
       "   instrumentalness  liveness  valence  ...                      id  \\\n",
       "0          0.013400    0.0556   0.3890  ...  2Vc6NJ9PW9gD9q343XFRKx   \n",
       "1          0.000000    0.1180   0.1240  ...  7pgJBLVz5VmnL7uGHmRj6p   \n",
       "2          0.000004    0.3720   0.0391  ...  0vSWgAlfpye0WCGeNmuNhy   \n",
       "3          0.000000    0.1140   0.1750  ...  0VSXnJqQkwuH2ei1nOQ1nu   \n",
       "4          0.000000    0.1660   0.5910  ...  4jCeguq9rMTlbMmPHuO7S3   \n",
       "\n",
       "                                    uri  \\\n",
       "0  spotify:track:2Vc6NJ9PW9gD9q343XFRKx   \n",
       "1  spotify:track:7pgJBLVz5VmnL7uGHmRj6p   \n",
       "2  spotify:track:0vSWgAlfpye0WCGeNmuNhy   \n",
       "3  spotify:track:0VSXnJqQkwuH2ei1nOQ1nu   \n",
       "4  spotify:track:4jCeguq9rMTlbMmPHuO7S3   \n",
       "\n",
       "                                          track_href  \\\n",
       "0  https://api.spotify.com/v1/tracks/2Vc6NJ9PW9gD...   \n",
       "1  https://api.spotify.com/v1/tracks/7pgJBLVz5Vmn...   \n",
       "2  https://api.spotify.com/v1/tracks/0vSWgAlfpye0...   \n",
       "3  https://api.spotify.com/v1/tracks/0VSXnJqQkwuH...   \n",
       "4  https://api.spotify.com/v1/tracks/4jCeguq9rMTl...   \n",
       "\n",
       "                                        analysis_url duration_ms  \\\n",
       "0  https://api.spotify.com/v1/audio-analysis/2Vc6...      124539   \n",
       "1  https://api.spotify.com/v1/audio-analysis/7pgJ...      224427   \n",
       "2  https://api.spotify.com/v1/audio-analysis/0vSW...       98821   \n",
       "3  https://api.spotify.com/v1/audio-analysis/0VSX...      123661   \n",
       "4  https://api.spotify.com/v1/audio-analysis/4jCe...      123298   \n",
       "\n",
       "  time_signature      genre                                      song_name  \\\n",
       "0              4  Dark Trap                            Mercury: Retrograde   \n",
       "1              4  Dark Trap                                      Pathology   \n",
       "2              4  Dark Trap                                       Symbiote   \n",
       "3              3  Dark Trap  ProductOfDrugs (Prod. The Virus and Antidote)   \n",
       "4              4  Dark Trap                                          Venom   \n",
       "\n",
       "  Unnamed: 0 title  \n",
       "0        NaN   NaN  \n",
       "1        NaN   NaN  \n",
       "2        NaN   NaN  \n",
       "3        NaN   NaN  \n",
       "4        NaN   NaN  \n",
       "\n",
       "[5 rows x 22 columns]"
      ],
      "text/html": "<div>\n<style scoped>\n    .dataframe tbody tr th:only-of-type {\n        vertical-align: middle;\n    }\n\n    .dataframe tbody tr th {\n        vertical-align: top;\n    }\n\n    .dataframe thead th {\n        text-align: right;\n    }\n</style>\n<table border=\"1\" class=\"dataframe\">\n  <thead>\n    <tr style=\"text-align: right;\">\n      <th></th>\n      <th>danceability</th>\n      <th>energy</th>\n      <th>key</th>\n      <th>loudness</th>\n      <th>mode</th>\n      <th>speechiness</th>\n      <th>acousticness</th>\n      <th>instrumentalness</th>\n      <th>liveness</th>\n      <th>valence</th>\n      <th>...</th>\n      <th>id</th>\n      <th>uri</th>\n      <th>track_href</th>\n      <th>analysis_url</th>\n      <th>duration_ms</th>\n      <th>time_signature</th>\n      <th>genre</th>\n      <th>song_name</th>\n      <th>Unnamed: 0</th>\n      <th>title</th>\n    </tr>\n  </thead>\n  <tbody>\n    <tr>\n      <th>0</th>\n      <td>0.831</td>\n      <td>0.814</td>\n      <td>2</td>\n      <td>-7.364</td>\n      <td>1</td>\n      <td>0.4200</td>\n      <td>0.0598</td>\n      <td>0.013400</td>\n      <td>0.0556</td>\n      <td>0.3890</td>\n      <td>...</td>\n      <td>2Vc6NJ9PW9gD9q343XFRKx</td>\n      <td>spotify:track:2Vc6NJ9PW9gD9q343XFRKx</td>\n      <td>https://api.spotify.com/v1/tracks/2Vc6NJ9PW9gD...</td>\n      <td>https://api.spotify.com/v1/audio-analysis/2Vc6...</td>\n      <td>124539</td>\n      <td>4</td>\n      <td>Dark Trap</td>\n      <td>Mercury: Retrograde</td>\n      <td>NaN</td>\n      <td>NaN</td>\n    </tr>\n    <tr>\n      <th>1</th>\n      <td>0.719</td>\n      <td>0.493</td>\n      <td>8</td>\n      <td>-7.230</td>\n      <td>1</td>\n      <td>0.0794</td>\n      <td>0.4010</td>\n      <td>0.000000</td>\n      <td>0.1180</td>\n      <td>0.1240</td>\n      <td>...</td>\n      <td>7pgJBLVz5VmnL7uGHmRj6p</td>\n      <td>spotify:track:7pgJBLVz5VmnL7uGHmRj6p</td>\n      <td>https://api.spotify.com/v1/tracks/7pgJBLVz5Vmn...</td>\n      <td>https://api.spotify.com/v1/audio-analysis/7pgJ...</td>\n      <td>224427</td>\n      <td>4</td>\n      <td>Dark Trap</td>\n      <td>Pathology</td>\n      <td>NaN</td>\n      <td>NaN</td>\n    </tr>\n    <tr>\n      <th>2</th>\n      <td>0.850</td>\n      <td>0.893</td>\n      <td>5</td>\n      <td>-4.783</td>\n      <td>1</td>\n      <td>0.0623</td>\n      <td>0.0138</td>\n      <td>0.000004</td>\n      <td>0.3720</td>\n      <td>0.0391</td>\n      <td>...</td>\n      <td>0vSWgAlfpye0WCGeNmuNhy</td>\n      <td>spotify:track:0vSWgAlfpye0WCGeNmuNhy</td>\n      <td>https://api.spotify.com/v1/tracks/0vSWgAlfpye0...</td>\n      <td>https://api.spotify.com/v1/audio-analysis/0vSW...</td>\n      <td>98821</td>\n      <td>4</td>\n      <td>Dark Trap</td>\n      <td>Symbiote</td>\n      <td>NaN</td>\n      <td>NaN</td>\n    </tr>\n    <tr>\n      <th>3</th>\n      <td>0.476</td>\n      <td>0.781</td>\n      <td>0</td>\n      <td>-4.710</td>\n      <td>1</td>\n      <td>0.1030</td>\n      <td>0.0237</td>\n      <td>0.000000</td>\n      <td>0.1140</td>\n      <td>0.1750</td>\n      <td>...</td>\n      <td>0VSXnJqQkwuH2ei1nOQ1nu</td>\n      <td>spotify:track:0VSXnJqQkwuH2ei1nOQ1nu</td>\n      <td>https://api.spotify.com/v1/tracks/0VSXnJqQkwuH...</td>\n      <td>https://api.spotify.com/v1/audio-analysis/0VSX...</td>\n      <td>123661</td>\n      <td>3</td>\n      <td>Dark Trap</td>\n      <td>ProductOfDrugs (Prod. The Virus and Antidote)</td>\n      <td>NaN</td>\n      <td>NaN</td>\n    </tr>\n    <tr>\n      <th>4</th>\n      <td>0.798</td>\n      <td>0.624</td>\n      <td>2</td>\n      <td>-7.668</td>\n      <td>1</td>\n      <td>0.2930</td>\n      <td>0.2170</td>\n      <td>0.000000</td>\n      <td>0.1660</td>\n      <td>0.5910</td>\n      <td>...</td>\n      <td>4jCeguq9rMTlbMmPHuO7S3</td>\n      <td>spotify:track:4jCeguq9rMTlbMmPHuO7S3</td>\n      <td>https://api.spotify.com/v1/tracks/4jCeguq9rMTl...</td>\n      <td>https://api.spotify.com/v1/audio-analysis/4jCe...</td>\n      <td>123298</td>\n      <td>4</td>\n      <td>Dark Trap</td>\n      <td>Venom</td>\n      <td>NaN</td>\n      <td>NaN</td>\n    </tr>\n  </tbody>\n</table>\n<p>5 rows × 22 columns</p>\n</div>"
     },
     "metadata": {},
     "execution_count": 3
    }
   ],
   "source": [
    "df = pd.read_csv('/Users/mandy/Documents/FTDS/Group_Project_02(Spotify)/genres_v2.csv')\n",
    "df.head()"
   ]
  },
  {
   "source": [
    "# EDA AND CLEANING"
   ],
   "cell_type": "markdown",
   "metadata": {}
  },
  {
   "cell_type": "code",
   "execution_count": 4,
   "metadata": {},
   "outputs": [
    {
     "output_type": "execute_result",
     "data": {
      "text/plain": [
       "   danceability  energy  key  loudness  mode  speechiness  acousticness  \\\n",
       "0         0.831   0.814    2    -7.364     1       0.4200        0.0598   \n",
       "1         0.719   0.493    8    -7.230     1       0.0794        0.4010   \n",
       "2         0.850   0.893    5    -4.783     1       0.0623        0.0138   \n",
       "3         0.476   0.781    0    -4.710     1       0.1030        0.0237   \n",
       "4         0.798   0.624    2    -7.668     1       0.2930        0.2170   \n",
       "\n",
       "   instrumentalness  liveness  valence    tempo  duration_ms  time_signature  \\\n",
       "0          0.013400    0.0556   0.3890  156.985       124539               4   \n",
       "1          0.000000    0.1180   0.1240  115.080       224427               4   \n",
       "2          0.000004    0.3720   0.0391  218.050        98821               4   \n",
       "3          0.000000    0.1140   0.1750  186.948       123661               3   \n",
       "4          0.000000    0.1660   0.5910  147.988       123298               4   \n",
       "\n",
       "       genre  \n",
       "0  Dark Trap  \n",
       "1  Dark Trap  \n",
       "2  Dark Trap  \n",
       "3  Dark Trap  \n",
       "4  Dark Trap  "
      ],
      "text/html": "<div>\n<style scoped>\n    .dataframe tbody tr th:only-of-type {\n        vertical-align: middle;\n    }\n\n    .dataframe tbody tr th {\n        vertical-align: top;\n    }\n\n    .dataframe thead th {\n        text-align: right;\n    }\n</style>\n<table border=\"1\" class=\"dataframe\">\n  <thead>\n    <tr style=\"text-align: right;\">\n      <th></th>\n      <th>danceability</th>\n      <th>energy</th>\n      <th>key</th>\n      <th>loudness</th>\n      <th>mode</th>\n      <th>speechiness</th>\n      <th>acousticness</th>\n      <th>instrumentalness</th>\n      <th>liveness</th>\n      <th>valence</th>\n      <th>tempo</th>\n      <th>duration_ms</th>\n      <th>time_signature</th>\n      <th>genre</th>\n    </tr>\n  </thead>\n  <tbody>\n    <tr>\n      <th>0</th>\n      <td>0.831</td>\n      <td>0.814</td>\n      <td>2</td>\n      <td>-7.364</td>\n      <td>1</td>\n      <td>0.4200</td>\n      <td>0.0598</td>\n      <td>0.013400</td>\n      <td>0.0556</td>\n      <td>0.3890</td>\n      <td>156.985</td>\n      <td>124539</td>\n      <td>4</td>\n      <td>Dark Trap</td>\n    </tr>\n    <tr>\n      <th>1</th>\n      <td>0.719</td>\n      <td>0.493</td>\n      <td>8</td>\n      <td>-7.230</td>\n      <td>1</td>\n      <td>0.0794</td>\n      <td>0.4010</td>\n      <td>0.000000</td>\n      <td>0.1180</td>\n      <td>0.1240</td>\n      <td>115.080</td>\n      <td>224427</td>\n      <td>4</td>\n      <td>Dark Trap</td>\n    </tr>\n    <tr>\n      <th>2</th>\n      <td>0.850</td>\n      <td>0.893</td>\n      <td>5</td>\n      <td>-4.783</td>\n      <td>1</td>\n      <td>0.0623</td>\n      <td>0.0138</td>\n      <td>0.000004</td>\n      <td>0.3720</td>\n      <td>0.0391</td>\n      <td>218.050</td>\n      <td>98821</td>\n      <td>4</td>\n      <td>Dark Trap</td>\n    </tr>\n    <tr>\n      <th>3</th>\n      <td>0.476</td>\n      <td>0.781</td>\n      <td>0</td>\n      <td>-4.710</td>\n      <td>1</td>\n      <td>0.1030</td>\n      <td>0.0237</td>\n      <td>0.000000</td>\n      <td>0.1140</td>\n      <td>0.1750</td>\n      <td>186.948</td>\n      <td>123661</td>\n      <td>3</td>\n      <td>Dark Trap</td>\n    </tr>\n    <tr>\n      <th>4</th>\n      <td>0.798</td>\n      <td>0.624</td>\n      <td>2</td>\n      <td>-7.668</td>\n      <td>1</td>\n      <td>0.2930</td>\n      <td>0.2170</td>\n      <td>0.000000</td>\n      <td>0.1660</td>\n      <td>0.5910</td>\n      <td>147.988</td>\n      <td>123298</td>\n      <td>4</td>\n      <td>Dark Trap</td>\n    </tr>\n  </tbody>\n</table>\n</div>"
     },
     "metadata": {},
     "execution_count": 4
    }
   ],
   "source": [
    "df=df.drop(columns = ['type', 'id', 'uri', 'track_href', 'analysis_url', 'song_name', 'Unnamed: 0', 'title'])\n",
    "df.head()"
   ]
  },
  {
   "cell_type": "code",
   "execution_count": 5,
   "metadata": {},
   "outputs": [],
   "source": [
    "X = df.drop(columns='genre')\n",
    "y = df['genre']"
   ]
  },
  {
   "cell_type": "code",
   "execution_count": 6,
   "metadata": {},
   "outputs": [],
   "source": [
    "numdf_o = X.astype(float)"
   ]
  },
  {
   "cell_type": "code",
   "execution_count": 7,
   "metadata": {},
   "outputs": [],
   "source": [
    "numdf_i = pd.concat([numdf_o, y], axis=1)"
   ]
  },
  {
   "cell_type": "code",
   "execution_count": 8,
   "metadata": {},
   "outputs": [],
   "source": [
    "#detecting outliers\n",
    "from scipy import stats\n",
    "\n",
    "def drop_numerical_outliers(df, z_thresh=3):\n",
    "    # Constrains will contain True or False depending on if it is a value below the threshold.\n",
    "    constrains = df.select_dtypes(include=[np.number]) \\\n",
    "        .apply(lambda x: np.abs(stats.zscore(x)) < z_thresh) \\\n",
    "        .all(axis=1)\n",
    "    # Drop (inplace) values set to be rejected\n",
    "    df.drop(df.index[~constrains], inplace=True)\n",
    "\n",
    "drop_numerical_outliers(numdf_i)"
   ]
  },
  {
   "cell_type": "code",
   "execution_count": null,
   "metadata": {},
   "outputs": [],
   "source": []
  },
  {
   "source": [
    "# Modeling\n",
    "## 1 - Decision Tree"
   ],
   "cell_type": "markdown",
   "metadata": {}
  },
  {
   "cell_type": "code",
   "execution_count": 49,
   "metadata": {},
   "outputs": [],
   "source": [
    "X = numdf_i.drop(columns='genre')\n",
    "y = numdf_i['genre']"
   ]
  },
  {
   "cell_type": "code",
   "execution_count": 50,
   "metadata": {},
   "outputs": [],
   "source": [
    "# Import module to split dataset\n",
    "from sklearn.model_selection import train_test_split\n",
    "# Split data set into training and test sets\n",
    "X_train, X_test, y_train, y_test = train_test_split(X, y, test_size=0.2, random_state=420)"
   ]
  },
  {
   "cell_type": "code",
   "execution_count": 51,
   "metadata": {},
   "outputs": [
    {
     "output_type": "execute_result",
     "data": {
      "text/plain": [
       "DecisionTreeClassifier()"
      ]
     },
     "metadata": {},
     "execution_count": 51
    }
   ],
   "source": [
    "# Import module for fitting\n",
    "from sklearn.tree import DecisionTreeClassifier\n",
    "dtreemodel = DecisionTreeClassifier()  #initialize\n",
    "\n",
    "# Fit the model using the training data\n",
    "# X_train -> parameter supplies the data features\n",
    "# y_train -> parameter supplies the target labels\n",
    "dtreemodel.fit(X_train, y_train)"
   ]
  },
  {
   "cell_type": "code",
   "execution_count": 52,
   "metadata": {},
   "outputs": [
    {
     "output_type": "execute_result",
     "data": {
      "text/plain": [
       "array(['Dark Trap', 'Emo', 'Hiphop', 'Pop', 'Rap', 'RnB', 'Trap Metal',\n",
       "       'Underground Rap', 'dnb', 'hardstyle', 'psytrance', 'techhouse',\n",
       "       'techno', 'trance', 'trap'], dtype=object)"
      ]
     },
     "metadata": {},
     "execution_count": 52
    }
   ],
   "source": [
    "dtreemodel.classes_"
   ]
  },
  {
   "cell_type": "code",
   "execution_count": 53,
   "metadata": {},
   "outputs": [
    {
     "output_type": "execute_result",
     "data": {
      "text/plain": [
       "array([0.096, 0.078, 0.022, 0.064, 0.006, 0.058, 0.047, 0.082, 0.039,\n",
       "       0.065, 0.321, 0.123, 0.   ])"
      ]
     },
     "metadata": {},
     "execution_count": 53
    }
   ],
   "source": [
    "# attribute of thr algorithm\n",
    "dtreemodel.feature_importances_"
   ]
  },
  {
   "cell_type": "code",
   "execution_count": 54,
   "metadata": {},
   "outputs": [],
   "source": [
    "#Predicting the target for test data\n",
    "predictions = dtreemodel.predict(X_test)"
   ]
  },
  {
   "cell_type": "code",
   "execution_count": 55,
   "metadata": {},
   "outputs": [
    {
     "output_type": "execute_result",
     "data": {
      "text/plain": [
       "0.5772411953041622"
      ]
     },
     "metadata": {},
     "execution_count": 55
    }
   ],
   "source": [
    "dtreemodel.score(X_test, y_test)"
   ]
  },
  {
   "cell_type": "code",
   "execution_count": 19,
   "metadata": {},
   "outputs": [
    {
     "output_type": "execute_result",
     "data": {
      "text/plain": [
       "gini = 0.5\\nsamples = 2\\nvalue = [0, 0, 0, 0, 1, 0, 0, 1, 0, 0, 0, 0, 0, 0\\n0]'),\n",
       " Text(18.405444871118043, 75.77454545454546, 'gini = 0.5\\nsamples = 2\\nvalue = [1, 0, 0, 0, 0, 0, 0, 1, 0, 0, 0, 0, 0, 0\\n0]'),\n",
       " Text(18.54625796544601, 82.36363636363637, 'X[5] <= 0.074\\ngini = 0.667\\nsamples = 6\\nvalue = [2, 0, 0, 0, 0, 0, 2, 2, 0, 0, 0, 0, 0, 0\\n0]'),\n",
       " Text(18.49932026733669, 75.77454545454546, 'gini = 0.0\\nsamples = 1\\nvalue = [1, 0, 0, 0, 0, 0, 0, 0, 0, 0, 0, 0, 0, 0\\n0]'),\n",
       " Text(18.59319566355533, 75.77454545454546, 'X[2] <= 5.0\\ngini = 0.64\\nsamples = 5\\nvalue = [1, 0, 0, 0, 0, 0, 2, 2, 0, 0, 0, 0, 0, 0\\n0]'),\n",
       " Text(18.54625796544601, 69.18545454545455, 'gini = 0.5\\nsamples = 2\\nvalue = [0, 0, 0, 0, 0, 0, 1, 1, 0, 0, 0, 0, 0, 0\\n0]'),\n",
       " Text(18.640133361664656, 69.18545454545455, 'gini = 0.667\\nsamples = 3\\nvalue = [1, 0, 0, 0, 0, 0, 1, 1, 0, 0, 0, 0, 0, 0\\n0]'),\n",
       " Text(19.015634946539233, 115.30909090909091, 'X[3] <= -11.319\\ngini = 0.664\\nsamples = 27\\nvalue = [3, 0, 1, 0, 1, 0, 13, 8, 0, 0, 0, 1, 0, 0\\n0]'),\n",
       " Text(18.968697248429912, 108.72, 'gini = 0.0\\nsamples = 3\\nvalue = [0, 0, 0, 0, 0, 0, 0, 3, 0, 0, 0, 0, 0, 0\\n0]'),\n",
       " Text(19.062572644648558, 108.72, 'X[7] <= 0.014\\ngini = 0.642\\nsamples = 24\\nvalue = [3, 0, 1, 0, 1, 0, 13, 5, 0, 0, 0, 1, 0, 0\\n0]'),\n",
       " Text(19.015634946539233, 102.13090909090909, 'X[5] <= 0.057\\ngini = 0.612\\nsamples = 23\\nvalue = [3, 0, 1, 0, 0, 0, 13, 5, 0, 0, 0, 1, 0, 0\\n0]'),\n",
       " Text(18.827884154101945, 95.54181818181819, 'X[10] <= 122.522\\ngini = 0.64\\nsamples = 10\\nvalue = [2, 0, 0, 0, 0, 0, 4, 4, 0, 0, 0, 0, 0, 0\\n0]'),\n",
       " Text(18.687071059773977, 88.95272727272729, 'X[7] <= 0.001\\ngini = 0.444\\nsamples = 6\\nvalue = [0, 0, 0, 0, 0, 0, 4, 2, 0, 0, 0, 0, 0, 0\\n0]'),\n",
       " Text(18.640133361664656, 82.36363636363637, 'gini = 0.0\\nsamples = 2\\nvalue = [0, 0, 0, 0, 0, 0, 2, 0, 0, 0, 0, 0, 0, 0\\n0]'),\n",
       " Text(18.7340087578833, 82.36363636363637, 'X[4] <= 0.5\\ngini = 0.5\\nsamples = 4\\nvalue = [0, 0, 0, 0, 0, 0, 2, 2, 0, 0, 0, 0, 0, 0\\n0]'),\n",
       " Text(18.687071059773977, 75.77454545454546, 'gini = 0.5\\nsamples = 2\\nvalue = [0, 0, 0, 0, 0, 0, 1, 1, 0, 0, 0, 0, 0, 0\\n0]'),\n",
       " Text(18.780946455992623, 75.77454545454546, 'gini = 0.5\\nsamples = 2\\nvalue = [0, 0, 0, 0, 0, 0, 1, 1, 0, 0, 0, 0, 0, 0\\n0]'),\n",
       " Text(18.968697248429912, 88.95272727272729, 'X[11] <= 144660.5\\ngini = 0.5\\nsamples = 4\\nvalue = [2, 0, 0, 0, 0, 0, 0, 2, 0, 0, 0, 0, 0, 0\\n0]'),\n",
       " Text(18.92175955032059, 82.36363636363637, 'X[1] <= 0.648\\ngini = 0.444\\nsamples = 3\\nvalue = [1, 0, 0, 0, 0, 0, 0, 2, 0, 0, 0, 0, 0, 0\\n0]'),\n",
       " Text(18.874821852211266, 75.77454545454546, 'gini = 0.5\\nsamples = 2\\nvalue = [1, 0, 0, 0, 0, 0, 0, 1, 0, 0, 0, 0, 0, 0\\n0]'),\n",
       " Text(18.968697248429912, 75.77454545454546, 'gini = 0.0\\nsamples = 1\\nvalue = [0, 0, 0, 0, 0, 0, 0, 1, 0, 0, 0, 0, 0, 0\\n0]'),\n",
       " Text(19.015634946539233, 82.36363636363637, 'gini = 0.0\\nsamples = 1\\nvalue = [1, 0, 0, 0, 0, 0, 0, 0, 0, 0, 0, 0, 0, 0\\n0]'),\n",
       " Text(19.20338573897652, 95.54181818181819, 'X[11] <= 167444.5\\ngini = 0.497\\nsamples = 13\\nvalue = [1, 0, 1, 0, 0, 0, 9, 1, 0, 0, 0, 1, 0, 0\\n0]'),\n",
       " Text(19.1564480408672, 88.95272727272729, 'X[1] <= 0.775\\ngini = 0.417\\nsamples = 12\\nvalue = [0, 0, 1, 0, 0, 0, 9, 1, 0, 0, 0, 1, 0, 0\\n0]'),\n",
       " Text(19.10951034275788, 82.36363636363637, 'X[8] <= 0.077\\ngini = 0.314\\nsamples = 11\\nvalue = [0, 0, 1, 0, 0, 0, 9, 1, 0, 0, 0, 0, 0, 0\\n0]'),\n",
       " Text(19.062572644648558, 75.77454545454546, 'gini = 0.5\\nsamples = 2\\nvalue = [0, 0, 0, 0, 0, 0, 1, 1, 0, 0, 0, 0, 0, 0\\n0]'),\n",
       " Text(19.1564480408672, 75.77454545454546, 'X[9] <= 0.533\\ngini = 0.198\\nsamples = 9\\nvalue = [0, 0, 1, 0, 0, 0, 8, 0, 0, 0, 0, 0, 0, 0\\n0]'),\n",
       " Text(19.10951034275788, 69.18545454545455, 'gini = 0.0\\nsamples = 7\\nvalue = [0, 0, 0, 0, 0, 0, 7, 0, 0, 0, 0, 0, 0, 0\\n0]'),\n",
       " Text(19.20338573897652, 69.18545454545455, 'gini = 0.5\\nsamples = 2\\nvalue = [0, 0, 1, 0, 0, 0, 1, 0, 0, 0, 0, 0, 0, 0\\n0]'),\n",
       " Text(19.20338573897652, 82.36363636363637, 'gini = 0.0\\nsamples = 1\\nvalue = [0, 0, 0, 0, 0, 0, 0, 0, 0, 0, 0, 1, 0, 0\\n0]'),\n",
       " Text(19.250323437085846, 88.95272727272729, 'gini = 0.0\\nsamples = 1\\nvalue = [1, 0, 0, 0, 0, 0, 0, 0, 0, 0, 0, 0, 0, 0\\n0]'),\n",
       " Text(19.10951034275788, 102.13090909090909, 'gini = 0.0\\nsamples = 1\\nvalue = [0, 0, 0, 0, 1, 0, 0, 0, 0, 0, 0, 0, 0, 0\\n0]'),\n",
       " Text(17.94780231455215, 128.48727272727274, 'gini = 0.0\\nsamples = 2\\nvalue = [0, 0, 0, 0, 0, 0, 0, 0, 0, 0, 0, 0, 0, 0\\n2]'),\n",
       " Text(20.024795455889667, 135.07636363636362, 'X[10] <= 160.0\\ngini = 0.654\\nsamples = 123\\nvalue = [55, 1, 4, 0, 2, 4, 12, 45, 0, 0, 0, 0, 0, 0\\n0]'),\n",
       " Text(19.526082413478115, 128.48727272727274, 'X[9] <= 0.051\\ngini = 0.503\\nsamples = 49\\nvalue = [32, 0, 0, 0, 0, 0, 5, 12, 0, 0, 0, 0, 0, 0\\n0]'),\n",
       " Text(19.479144715368793, 121.89818181818183, 'gini = 0.0\\nsamples = 2\\nvalue = [0, 0, 0, 0, 0, 0, 2, 0, 0, 0, 0, 0, 0, 0\\n0]'),\n",
       " Text(19.573020111587436, 121.89818181818183, 'X[7] <= 0.0\\ngini = 0.467\\nsamples = 47\\nvalue = [32, 0, 0, 0, 0, 0, 3, 12, 0, 0, 0, 0, 0, 0\\n0]'),\n",
       " Text(19.34419883330449, 115.30909090909091, 'X[1] <= 0.741\\ngini = 0.198\\nsamples = 18\\nvalue = [16, 0, 0, 0, 0, 0, 0, 2, 0, 0, 0, 0, 0, 0\\n0]'),\n",
       " Text(19.297261135195168, 108.72, 'gini = 0.0\\nsamples = 13\\nvalue = [13, 0, 0, 0, 0, 0, 0, 0, 0, 0, 0, 0, 0, 0\\n0]'),\n",
       " Text(19.391136531413814, 108.72, 'X[9] <= 0.651\\ngini = 0.48\\nsamples = 5\\nvalue = [3, 0, 0, 0, 0, 0, 0, 2, 0, 0, 0, 0, 0, 0\\n0]'),\n",
       " Text(19.34419883330449, 102.13090909090909, 'X[10] <= 152.532\\ngini = 0.5\\nsamples = 4\\nvalue = [2, 0, 0, 0, 0, 0, 0, 2, 0, 0, 0, 0, 0, 0\\n0]'),\n",
       " Text(19.297261135195168, 95.54181818181819, 'gini = 0.5\\nsamples = 2\\nvalue = [1, 0, 0, 0, 0, 0, 0, 1, 0, 0, 0, 0, 0, 0\\n0]'),\n",
       " Text(19.391136531413814, 95.54181818181819, 'gini = 0.5\\nsamples = 2\\nvalue = [1, 0, 0, 0, 0, 0, 0, 1, 0, 0, 0, 0, 0, 0\\n0]'),\n",
       " Text(19.438074229523135, 102.13090909090909, 'gini = 0.0\\nsamples = 1\\nvalue = [1, 0, 0, 0, 0, 0, 0, 0, 0, 0, 0, 0, 0, 0\\n0]'),\n",
       " Text(19.801841389870383, 115.30909090909091, 'X[5] <= 0.19\\ngini = 0.566\\nsamples = 29\\nvalue = [16, 0, 0, 0, 0, 0, 3, 10, 0, 0, 0, 0, 0, 0\\n0]'),\n",
       " Text(19.649293871015086, 108.72, 'X[6] <= 0.015\\ngini = 0.515\\nsamples = 20\\nvalue = [13, 0, 0, 0, 0, 0, 3, 4, 0, 0, 0, 0, 0, 0\\n0]'),\n",
       " Text(19.53194962574178, 102.13090909090909, 'X[9] <= 0.178\\ngini = 0.625\\nsamples = 4\\nvalue = [1, 0, 0, 0, 0, 0, 1, 2, 0, 0, 0, 0, 0, 0\\n0]'),\n",
       " Text(19.485011927632456, 95.54181818181819, 'gini = 0.0\\nsamples = 1\\nvalue = [0, 0, 0, 0, 0, 0, 0, 1, 0, 0, 0, 0, 0, 0\\n0]'),\n",
       " Text(19.578887323851102, 95.54181818181819, 'gini = 0.667\\nsamples = 3\\nvalue = [1, 0, 0, 0, 0, 0, 1, 1, 0, 0, 0, 0, 0, 0\\n0]'),\n",
       " Text(19.76663811628839, 102.13090909090909, 'X[10] <= 151.104\\ngini = 0.406\\nsamples = 16\\nvalue = [12, 0, 0, 0, 0, 0, 2, 2, 0, 0, 0, 0, 0, 0\\n0]'),\n",
       " Text(19.67276272006975, 95.54181818181819, 'X[10] <= 150.128\\ngini = 0.64\\nsamples = 5\\nvalue = [2, 0, 0, 0, 0, 0, 2, 1, 0, 0, 0, 0, 0, 0\\n0]'),\n",
       " Text(19.625825021960424, 88.95272727272729, 'X[3] <= -5.224\\ngini = 0.5\\nsamples = 4\\nvalue = [2, 0, 0, 0, 0, 0, 2, 0, 0, 0, 0, 0, 0, 0\\n0]'),\n",
       " Text(19.578887323851102, 82.36363636363637, 'X[0] <= 0.668\\ngini = 0.444\\nsamples = 3\\nvalue = [1, 0, 0, 0, 0, 0, 2, 0, 0, 0, 0, 0, 0, 0\\n0]'),\n",
       " Text(19.53194962574178, 75.77454545454546, 'gini = 0.0\\nsamples = 1\\nvalue = [0, 0, 0, 0, 0, 0, 1, 0, 0, 0, 0, 0, 0, 0\\n0]'),\n",
       " Text(19.625825021960424, 75.77454545454546, 'gini = 0.5\\nsamples = 2\\nvalue = [1, 0, 0, 0, 0, 0, 1, 0, 0, 0, 0, 0, 0, 0\\n0]'),\n",
       " Text(19.67276272006975, 82.36363636363637, 'gini = 0.0\\nsamples = 1\\nvalue = [1, 0, 0, 0, 0, 0, 0, 0, 0, 0, 0, 0, 0, 0\\n0]'),\n",
       " Text(19.71970041817907, 88.95272727272729, 'gini = 0.0\\nsamples = 1\\nvalue = [0, 0, 0, 0, 0, 0, 0, 1, 0, 0, 0, 0, 0, 0\\n0]'),\n",
       " Text(19.860513512507037, 95.54181818181819, 'X[7] <= 0.0\\ngini = 0.165\\nsamples = 11\\nvalue = [10, 0, 0, 0, 0, 0, 0, 1, 0, 0, 0, 0, 0, 0\\n0]'),\n",
       " Text(19.813575814397716, 88.95272727272729, 'gini = 0.5\\nsamples = 2\\nvalue = [1, 0, 0, 0, 0, 0, 0, 1, 0, 0, 0, 0, 0, 0\\n0]'),\n",
       " Text(19.907451210616358, 88.95272727272729, 'gini = 0.0\\nsamples = 9\\nvalue = [9, 0, 0, 0, 0, 0, 0, 0, 0, 0, 0, 0, 0, 0\\n0]'),\n",
       " Text(19.954388908725683, 108.72, 'X[8] <= 0.186\\ngini = 0.444\\nsamples = 9\\nvalue = [3, 0, 0, 0, 0, 0, 0, 6, 0, 0, 0, 0, 0, 0\\n0]'),\n",
       " Text(19.907451210616358, 102.13090909090909, 'gini = 0.0\\nsamples = 5\\nvalue = [0, 0, 0, 0, 0, 0, 0, 5, 0, 0, 0, 0, 0, 0\\n0]'),\n",
       " Text(20.001326606835004, 102.13090909090909, 'X[5] <= 0.223\\ngini = 0.375\\nsamples = 4\\nvalue = [3, 0, 0, 0, 0, 0, 0, 1, 0, 0, 0, 0, 0, 0\\n0]'),\n",
       " Text(19.954388908725683, 95.54181818181819, 'gini = 0.5\\nsamples = 2\\nvalue = [1, 0, 0, 0, 0, 0, 0, 1, 0, 0, 0, 0, 0, 0\\n0]'),\n",
       " Text(20.048264304944325, 95.54181818181819, 'gini = 0.0\\nsamples = 2\\nvalue = [2, 0, 0, 0, 0, 0, 0, 0, 0, 0, 0, 0, 0, 0\\n0]'),\n",
       " Text(20.523508498301215, 128.48727272727274, 'X[10] <= 160.115\\ngini = 0.689\\nsamples = 74\\nvalue = [23, 1, 4, 0, 2, 4, 7, 33, 0, 0, 0, 0, 0, 0\\n0]'),\n",
       " Text(20.28295279549094, 121.89818181818183, 'X[2] <= 10.0\\ngini = 0.245\\nsamples = 7\\nvalue = [0, 0, 1, 0, 0, 0, 0, 6, 0, 0, 0, 0, 0, 0\\n0]'),\n",
       " Text(20.236015097381618, 115.30909090909091, 'gini = 0.0\\nsamples = 5\\nvalue = [0, 0, 0, 0, 0, 0, 0, 5, 0, 0, 0, 0, 0, 0\\n0]'),\n",
       " Text(20.32989049360026, 115.30909090909091, 'gini = 0.5\\nsamples = 2\\nvalue = [0, 0, 1, 0, 0, 0, 0, 1, 0, 0, 0, 0, 0, 0\\n0]'),\n",
       " Text(20.76406420111149, 121.89818181818183, 'X[8] <= 0.158\\ngini = 0.702\\nsamples = 67\\nvalue = [23, 1, 3, 0, 2, 4, 7, 27, 0, 0, 0, 0, 0, 0\\n0]'),\n",
       " Text(20.423765889818906, 115.30909090909091, 'X[5] <= 0.239\\ngini = 0.652\\nsamples = 43\\nvalue = [20, 1, 0, 0, 2, 2, 3, 15, 0, 0, 0, 0, 0, 0\\n0]'),\n",
       " Text(20.189077399272293, 108.72, 'X[11] <= 94389.0\\ngini = 0.532\\nsamples = 27\\nvalue = [17, 0, 0, 0, 1, 1, 1, 7, 0, 0, 0, 0, 0, 0\\n0]'),\n",
       " Text(20.14213970116297, 102.13090909090909, 'gini = 0.5\\nsamples = 2\\nvalue = [0, 0, 0, 0, 1, 0, 0, 1, 0, 0, 0, 0, 0, 0\\n0]'),\n",
       " Text(20.236015097381618, 102.13090909090909, 'X[11] <= 158948.5\\ngini = 0.477\\nsamples = 25\\nvalue = [17, 0, 0, 0, 0, 1, 1, 6, 0, 0, 0, 0, 0, 0\\n0]'),\n",
       " Text(20.14213970116297, 95.54181818181819, 'X[1] <= 0.39\\ngini = 0.377\\nsamples = 18\\nvalue = [14, 0, 0, 0, 0, 1, 1, 2, 0, 0, 0, 0, 0, 0\\n0]'),\n",
       " Text(20.09520200305365, 88.95272727272729, 'gini = 0.0\\nsamples = 1\\nvalue = [0, 0, 0, 0, 0, 0, 0, 1, 0, 0, 0, 0, 0, 0\\n0]'),\n",
       " Text(20.189077399272293, 88.95272727272729, 'X[3] <= -9.08\\ngini = 0.311\\nsamples = 17\\nvalue = [14, 0, 0, 0, 0, 1, 1, 1, 0, 0, 0, 0, 0, 0\\n0]'),\n",
       " Text(20.14213970116297, 82.36363636363637, 'X[3] <= -9.934\\ngini = 0.562\\nsamples = 8\\nvalue = [5, 0, 0, 0, 0, 1, 1, 1, 0, 0, 0, 0, 0, 0\\n0]'),\n",
       " Text(20.09520200305365, 75.77454545454546, 'X[6] <= 0.392\\ngini = 0.449\\nsamples = 7\\nvalue = [5, 0, 0, 0, 0, 0, 1, 1, 0, 0, 0, 0, 0, 0\\n0]'),\n",
       " Text(20.048264304944325, 69.18545454545455, 'X[9] <= 0.114\\ngini = 0.278\\nsamples = 6\\nvalue = [5, 0, 0, 0, 0, 0, 1, 0, 0, 0, 0, 0, 0, 0\\n0]'),\n",
       " Text(20.001326606835004, 62.596363636363634, 'gini = 0.5\\nsamples = 2\\nvalue = [1, 0, 0, 0, 0, 0, 1, 0, 0, 0, 0, 0, 0, 0\\n0]'),\n",
       " Text(20.09520200305365, 62.596363636363634, 'gini = 0.0\\nsamples = 4\\nvalue = [4, 0, 0, 0, 0, 0, 0, 0, 0, 0, 0, 0, 0, 0\\n0]'),\n",
       " Text(20.14213970116297, 69.18545454545455, 'gini = 0.0\\nsamples = 1\\nvalue = [0, 0, 0, 0, 0, 0, 0, 1, 0, 0, 0, 0, 0, 0\\n0]'),\n",
       " Text(20.189077399272293, 75.77454545454546, 'gini = 0.0\\nsamples = 1\\nvalue = [0, 0, 0, 0, 0, 1, 0, 0, 0, 0, 0, 0, 0, 0\\n0]'),\n",
       " Text(20.236015097381618, 82.36363636363637, 'gini = 0.0\\nsamples = 9\\nvalue = [9, 0, 0, 0, 0, 0, 0, 0, 0, 0, 0, 0, 0, 0\\n0]'),\n",
       " Text(20.32989049360026, 95.54181818181819, 'X[5] <= 0.054\\ngini = 0.49\\nsamples = 7\\nvalue = [3, 0, 0, 0, 0, 0, 0, 4, 0, 0, 0, 0, 0, 0\\n0]'),\n",
       " Text(20.28295279549094, 88.95272727272729, 'gini = 0.0\\nsamples = 2\\nvalue = [0, 0, 0, 0, 0, 0, 0, 2, 0, 0, 0, 0, 0, 0\\n0]'),\n",
       " Text(20.376828191709585, 88.95272727272729, 'X[7] <= 0.0\\ngini = 0.48\\nsamples = 5\\nvalue = [3, 0, 0, 0, 0, 0, 0, 2, 0, 0, 0, 0, 0, 0\\n0]'),\n",
       " Text(20.32989049360026, 82.36363636363637, 'gini = 0.0\\nsamples = 1\\nvalue = [1, 0, 0, 0, 0, 0, 0, 0, 0, 0, 0, 0, 0, 0\\n0]'),\n",
       " Text(20.423765889818906, 82.36363636363637, 'X[8] <= 0.109\\ngini = 0.5\\nsamples = 4\\nvalue = [2, 0, 0, 0, 0, 0, 0, 2, 0, 0, 0, 0, 0, 0\\n0]'),\n",
       " Text(20.376828191709585, 75.77454545454546, 'gini = 0.5\\nsamples = 2\\nvalue = [1, 0, 0, 0, 0, 0, 0, 1, 0, 0, 0, 0, 0, 0\\n0]'),\n",
       " Text(20.470703587928227, 75.77454545454546, 'gini = 0.5\\nsamples = 2\\nvalue = [1, 0, 0, 0, 0, 0, 0, 1, 0, 0, 0, 0, 0, 0\\n0]'),\n",
       " Text(20.658454380365516, 108.72, 'X[0] <= 0.683\\ngini = 0.688\\nsamples = 16\\nvalue = [3, 1, 0, 0, 1, 1, 2, 8, 0, 0, 0, 0, 0, 0\\n0]'),\n",
       " Text(20.564578984146873, 102.13090909090909, 'X[7] <= 0.0\\ngini = 0.765\\nsamples = 9\\nvalue = [2, 0, 0, 0, 1, 1, 2, 3, 0, 0, 0, 0, 0, 0\\n0]'),\n",
       " Text(20.51764128603755, 95.54181818181819, 'X[10] <= 166.935\\ngini = 0.64\\nsamples = 5\\nvalue = [1, 0, 0, 0, 0, 0, 2, 2, 0, 0, 0, 0, 0, 0\\n0]'),\n",
       " Text(20.470703587928227, 88.95272727272729, 'gini = 0.667\\nsamples = 3\\nvalue = [1, 0, 0, 0, 0, 0, 1, 1, 0, 0, 0, 0, 0, 0\\n0]'),\n",
       " Text(20.564578984146873, 88.95272727272729, 'gini = 0.5\\nsamples = 2\\nvalue = [0, 0, 0, 0, 0, 0, 1, 1, 0, 0, 0, 0, 0, 0\\n0]'),\n",
       " Text(20.611516682256195, 95.54181818181819, 'gini = 0.75\\nsamples = 4\\nvalue = [1, 0, 0, 0, 1, 1, 0, 1, 0, 0, 0, 0, 0, 0\\n0]'),\n",
       " Text(20.752329776584162, 102.13090909090909, 'X[3] <= -6.452\\ngini = 0.449\\nsamples = 7\\nvalue = [1, 1, 0, 0, 0, 0, 0, 5, 0, 0, 0, 0, 0, 0\\n0]'),\n",
       " Text(20.70539207847484, 95.54181818181819, 'X[0] <= 0.704\\ngini = 0.278\\nsamples = 6\\nvalue = [1, 0, 0, 0, 0, 0, 0, 5, 0, 0, 0, 0, 0, 0\\n0]'),\n",
       " Text(20.658454380365516, 88.95272727272729, 'gini = 0.0\\nsamples = 4\\nvalue = [0, 0, 0, 0, 0, 0, 0, 4, 0, 0, 0, 0, 0, 0\\n0]'),\n",
       " Text(20.752329776584162, 88.95272727272729, 'gini = 0.5\\nsamples = 2\\nvalue = [1, 0, 0, 0, 0, 0, 0, 1, 0, 0, 0, 0, 0, 0\\n0]'),\n",
       " Text(20.799267474693483, 95.54181818181819, 'gini = 0.0\\nsamples = 1\\nvalue = [0, 1, 0, 0, 0, 0, 0, 0, 0, 0, 0, 0, 0, 0\\n0]'),\n",
       " Text(21.10436251240408, 115.30909090909091, 'X[9] <= 0.623\\ngini = 0.684\\nsamples = 24\\nvalue = [3, 0, 3, 0, 0, 2, 4, 12, 0, 0, 0, 0, 0, 0\\n0]'),\n",
       " Text(21.05742481429476, 108.72, 'X[10] <= 181.368\\ngini = 0.64\\nsamples = 22\\nvalue = [3, 0, 1, 0, 0, 2, 4, 12, 0, 0, 0, 0, 0, 0\\n0]'),\n",
       " Text(20.94008056902145, 102.13090909090909, 'X[7] <= 0.004\\ngini = 0.34\\nsamples = 10\\nvalue = [1, 0, 0, 0, 0, 1, 0, 8, 0, 0, 0, 0, 0, 0\\n0]'),\n",
       " Text(20.89314287091213, 95.54181818181819, 'X[9] <= 0.54\\ngini = 0.198\\nsamples = 9\\nvalue = [0, 0, 0, 0, 0, 1, 0, 8, 0, 0, 0, 0, 0, 0\\n0]'),\n",
       " Text(20.846205172802808, 88.95272727272729, 'gini = 0.0\\nsamples = 8\\nvalue = [0, 0, 0, 0, 0, 0, 0, 8, 0, 0, 0, 0, 0, 0\\n0]'),\n",
       " Text(20.94008056902145, 88.95272727272729, 'gini = 0.0\\nsamples = 1\\nvalue = [0, 0, 0, 0, 0, 1, 0, 0, 0, 0, 0, 0, 0, 0\\n0]'),\n",
       " Text(20.987018267130775, 95.54181818181819, 'gini = 0.0\\nsamples = 1\\nvalue = [1, 0, 0, 0, 0, 0, 0, 0, 0, 0, 0, 0, 0, 0\\n0]'),\n",
       " Text(21.174769059568064, 102.13090909090909, 'X[5] <= 0.264\\ngini = 0.736\\nsamples = 12\\nvalue = [2, 0, 1, 0, 0, 1, 4, 4, 0, 0, 0, 0, 0, 0\\n0]'),\n",
       " Text(21.080893663349418, 95.54181818181819, 'X[10] <= 201.146\\ngini = 0.64\\nsamples = 10\\nvalue = [2, 0, 0, 0, 0, 0, 4, 4, 0, 0, 0, 0, 0, 0\\n0]'),\n",
       " Text(21.033955965240096, 88.95272727272729, 'X[10] <= 199.551\\ngini = 0.593\\nsamples = 9\\nvalue = [1, 0, 0, 0, 0, 0, 4, 4, 0, 0, 0, 0, 0, 0\\n0]'),\n",
       " Text(20.987018267130775, 82.36363636363637, 'X[6] <= 0.392\\ngini = 0.594\\nsamples = 8\\nvalue = [1, 0, 0, 0, 0, 0, 3, 4, 0, 0, 0, 0, 0, 0\\n0]'),\n",
       " Text(20.94008056902145, 75.77454545454546, 'X[8] <= 0.194\\ngini = 0.612\\nsamples = 7\\nvalue = [1, 0, 0, 0, 0, 0, 3, 3, 0, 0, 0, 0, 0, 0\\n0]'),\n",
       " Text(20.89314287091213, 69.18545454545455, 'gini = 0.667\\nsamples = 3\\nvalue = [1, 0, 0, 0, 0, 0, 1, 1, 0, 0, 0, 0, 0, 0\\n0]'),\n",
       " Text(20.987018267130775, 69.18545454545455, 'X[4] <= 0.5\\ngini = 0.5\\nsamples = 4\\nvalue = [0, 0, 0, 0, 0, 0, 2, 2, 0, 0, 0, 0, 0, 0\\n0]'),\n",
       " Text(20.94008056902145, 62.596363636363634, 'gini = 0.5\\nsamples = 2\\nvalue = [0, 0, 0, 0, 0, 0, 1, 1, 0, 0, 0, 0, 0, 0\\n0]'),\n",
       " Text(21.033955965240096, 62.596363636363634, 'gini = 0.5\\nsamples = 2\\nvalue = [0, 0, 0, 0, 0, 0, 1, 1, 0, 0, 0, 0, 0, 0\\n0]'),\n",
       " Text(21.033955965240096, 75.77454545454546, 'gini = 0.0\\nsamples = 1\\nvalue = [0, 0, 0, 0, 0, 0, 0, 1, 0, 0, 0, 0, 0, 0\\n0]'),\n",
       " Text(21.080893663349418, 82.36363636363637, 'gini = 0.0\\nsamples = 1\\nvalue = [0, 0, 0, 0, 0, 0, 1, 0, 0, 0, 0, 0, 0, 0\\n0]'),\n",
       " Text(21.127831361458743, 88.95272727272729, 'gini = 0.0\\nsamples = 1\\nvalue = [1, 0, 0, 0, 0, 0, 0, 0, 0, 0, 0, 0, 0, 0\\n0]'),\n",
       " Text(21.26864445578671, 95.54181818181819, 'X[0] <= 0.655\\ngini = 0.5\\nsamples = 2\\nvalue = [0, 0, 1, 0, 0, 1, 0, 0, 0, 0, 0, 0, 0, 0\\n0]'),\n",
       " Text(21.221706757677385, 88.95272727272729, 'gini = 0.0\\nsamples = 1\\nvalue = [0, 0, 0, 0, 0, 1, 0, 0, 0, 0, 0, 0, 0, 0\\n0]'),\n",
       " Text(21.31558215389603, 88.95272727272729, 'gini = 0.0\\nsamples = 1\\nvalue = [0, 0, 1, 0, 0, 0, 0, 0, 0, 0, 0, 0, 0, 0\\n0]'),\n",
       " Text(21.1513002105134, 108.72, 'gini = 0.0\\nsamples = 2\\nvalue = [0, 0, 2, 0, 0, 0, 0, 0, 0, 0, 0, 0, 0, 0\\n0]'),\n",
       " Text(27.937510432571088, 168.0218181818182, 'X[5] <= 0.057\\ngini = 0.864\\nsamples = 621\\nvalue = [115, 35, 78, 19, 41, 70, 34, 147, 5, 34, 0, 1\\n0, 25, 17]'),\n",
       " Text(23.658250000547643, 161.43272727272728, 'X[9] <= 0.376\\ngini = 0.879\\nsamples = 210\\nvalue = [48, 23, 15, 9, 4, 19, 8, 23, 3, 25, 0, 1, 0\\n22, 10]'),\n",
       " Text(22.639005220119035, 154.84363636363636, 'X[1] <= 0.718\\ngini = 0.832\\nsamples = 146\\nvalue = [46, 4, 13, 1, 2, 9, 7, 15, 2, 24, 0, 0, 0\\n18, 5]'),\n",
       " Text(21.861966295949863, 148.25454545454545, 'X[6] <= 0.019\\ngini = 0.797\\nsamples = 106\\nvalue = [40, 3, 13, 1, 2, 9, 4, 15, 0, 5, 0, 0, 0, 12\\n2]'),\n",
       " Text(21.50333294633332, 141.66545454545457, 'X[10] <= 139.015\\ngini = 0.604\\nsamples = 32\\nvalue = [18, 0, 1, 0, 0, 0, 0, 4, 0, 1, 0, 0, 0, 8\\n0]'),\n",
       " Text(21.385988701060015, 135.07636363636362, 'X[1] <= 0.598\\ngini = 0.648\\nsamples = 16\\nvalue = [4, 0, 1, 0, 0, 0, 0, 3, 0, 0, 0, 0, 0, 8\\n0]'),\n",
       " Text(21.29211330484137, 128.48727272727274, 'X[10] <= 131.568\\ngini = 0.48\\nsamples = 5\\nvalue = [2, 0, 0, 0, 0, 0, 0, 3, 0, 0, 0, 0, 0, 0\\n0]'),\n",
       " Text(21.245175606732047, 121.89818181818183, 'X[4] <= 0.5\\ngini = 0.375\\nsamples = 4\\nvalue = [1, 0, 0, 0, 0, 0, 0, 3, 0, 0, 0, 0, 0, 0\\n0]'),\n",
       " Text(21.198237908622726, 115.30909090909091, 'gini = 0.0\\nsamples = 1\\nvalue = [0, 0, 0, 0, 0, 0, 0, 1, 0, 0, 0, 0, 0, 0\\n0]'),\n",
       " Text(21.29211330484137, 115.30909090909091, 'gini = 0.444\\nsamples = 3\\nvalue = [1, 0, 0, 0, 0, 0, 0, 2, 0, 0, 0, 0, 0, 0\\n0]'),\n",
       " Text(21.339051002950693, 121.89818181818183, 'gini = 0.0\\nsamples = 1\\nvalue = [1, 0, 0, 0, 0, 0, 0, 0, 0, 0, 0, 0, 0, 0\\n0]'),\n",
       " Text(21.47986409727866, 128.48727272727274, 'X[5] <= 0.045\\ngini = 0.43\\nsamples = 11\\nvalue = [2, 0, 1, 0, 0, 0, 0, 0, 0, 0, 0, 0, 0, 8\\n0]'),\n",
       " Text(21.432926399169336, 121.89818181818183, 'gini = 0.0\\nsamples = 7\\nvalue = [0, 0, 0, 0, 0, 0, 0, 0, 0, 0, 0, 0, 0, 7\\n0]'),\n",
       " Text(21.526801795387982, 121.89818181818183, 'X[6] <= 0.005\\ngini = 0.625\\nsamples = 4\\nvalue = [2, 0, 1, 0, 0, 0, 0, 0, 0, 0, 0, 0, 0, 1\\n0]'),\n",
       " Text(21.47986409727866, 115.30909090909091, 'gini = 0.0\\nsamples = 1\\nvalue = [0, 0, 0, 0, 0, 0, 0, 0, 0, 0, 0, 0, 0, 1\\n0]'),\n",
       " Text(21.573739493497303, 115.30909090909091, 'X[9] <= 0.185\\ngini = 0.444\\nsamples = 3\\nvalue = [2, 0, 1, 0, 0, 0, 0, 0, 0, 0, 0, 0, 0, 0\\n0]'),\n",
       " Text(21.526801795387982, 108.72, 'gini = 0.0\\nsamples = 1\\nvalue = [1, 0, 0, 0, 0, 0, 0, 0, 0, 0, 0, 0, 0, 0\\n0]'),\n",
       " Text(21.620677191606628, 108.72, 'gini = 0.5\\nsamples = 2\\nvalue = [1, 0, 1, 0, 0, 0, 0, 0, 0, 0, 0, 0, 0, 0\\n0]'),\n",
       " Text(21.620677191606628, 135.07636363636362, 'X[3] <= -12.148\\ngini = 0.227\\nsamples = 16\\nvalue = [14, 0, 0, 0, 0, 0, 0, 1, 0, 1, 0, 0, 0, 0\\n0]'),\n",
       " Text(21.573739493497303, 128.48727272727274, 'gini = 0.0\\nsamples = 1\\nvalue = [0, 0, 0, 0, 0, 0, 0, 1, 0, 0, 0, 0, 0, 0\\n0]'),\n",
       " Text(21.66761488971595, 128.48727272727274, 'X[8] <= 0.1\\ngini = 0.124\\nsamples = 15\\nvalue = [14, 0, 0, 0, 0, 0, 0, 0, 0, 1, 0, 0, 0, 0\\n0]'),\n",
       " ...]"
      ]
     },
     "metadata": {},
     "execution_count": 19
    },
    {
     "output_type": "stream",
     "name": "stdout",
     "text": [
      "Error in callback <function flush_figures at 0x12266acb0> (for post_execute):\n"
     ]
    },
    {
     "output_type": "error",
     "ename": "KeyboardInterrupt",
     "evalue": "",
     "traceback": [
      "\u001b[0;31m---------------------------------------------------------------------------\u001b[0m",
      "\u001b[0;31mKeyboardInterrupt\u001b[0m                         Traceback (most recent call last)",
      "\u001b[0;32m~/opt/anaconda3/lib/python3.7/site-packages/ipykernel/pylab/backend_inline.py\u001b[0m in \u001b[0;36mflush_figures\u001b[0;34m()\u001b[0m\n\u001b[1;32m    119\u001b[0m         \u001b[0;31m# ignore the tracking, just draw and close all figures\u001b[0m\u001b[0;34m\u001b[0m\u001b[0;34m\u001b[0m\u001b[0;34m\u001b[0m\u001b[0m\n\u001b[1;32m    120\u001b[0m         \u001b[0;32mtry\u001b[0m\u001b[0;34m:\u001b[0m\u001b[0;34m\u001b[0m\u001b[0;34m\u001b[0m\u001b[0m\n\u001b[0;32m--> 121\u001b[0;31m             \u001b[0;32mreturn\u001b[0m \u001b[0mshow\u001b[0m\u001b[0;34m(\u001b[0m\u001b[0;32mTrue\u001b[0m\u001b[0;34m)\u001b[0m\u001b[0;34m\u001b[0m\u001b[0;34m\u001b[0m\u001b[0m\n\u001b[0m\u001b[1;32m    122\u001b[0m         \u001b[0;32mexcept\u001b[0m \u001b[0mException\u001b[0m \u001b[0;32mas\u001b[0m \u001b[0me\u001b[0m\u001b[0;34m:\u001b[0m\u001b[0;34m\u001b[0m\u001b[0;34m\u001b[0m\u001b[0m\n\u001b[1;32m    123\u001b[0m             \u001b[0;31m# safely show traceback if in IPython, else raise\u001b[0m\u001b[0;34m\u001b[0m\u001b[0;34m\u001b[0m\u001b[0;34m\u001b[0m\u001b[0m\n",
      "\u001b[0;32m~/opt/anaconda3/lib/python3.7/site-packages/ipykernel/pylab/backend_inline.py\u001b[0m in \u001b[0;36mshow\u001b[0;34m(close, block)\u001b[0m\n\u001b[1;32m     41\u001b[0m             display(\n\u001b[1;32m     42\u001b[0m                 \u001b[0mfigure_manager\u001b[0m\u001b[0;34m.\u001b[0m\u001b[0mcanvas\u001b[0m\u001b[0;34m.\u001b[0m\u001b[0mfigure\u001b[0m\u001b[0;34m,\u001b[0m\u001b[0;34m\u001b[0m\u001b[0;34m\u001b[0m\u001b[0m\n\u001b[0;32m---> 43\u001b[0;31m                 \u001b[0mmetadata\u001b[0m\u001b[0;34m=\u001b[0m\u001b[0m_fetch_figure_metadata\u001b[0m\u001b[0;34m(\u001b[0m\u001b[0mfigure_manager\u001b[0m\u001b[0;34m.\u001b[0m\u001b[0mcanvas\u001b[0m\u001b[0;34m.\u001b[0m\u001b[0mfigure\u001b[0m\u001b[0;34m)\u001b[0m\u001b[0;34m\u001b[0m\u001b[0;34m\u001b[0m\u001b[0m\n\u001b[0m\u001b[1;32m     44\u001b[0m             )\n\u001b[1;32m     45\u001b[0m     \u001b[0;32mfinally\u001b[0m\u001b[0;34m:\u001b[0m\u001b[0;34m\u001b[0m\u001b[0;34m\u001b[0m\u001b[0m\n",
      "\u001b[0;32m~/opt/anaconda3/lib/python3.7/site-packages/IPython/core/display.py\u001b[0m in \u001b[0;36mdisplay\u001b[0;34m(include, exclude, metadata, transient, display_id, *objs, **kwargs)\u001b[0m\n\u001b[1;32m    311\u001b[0m             \u001b[0mpublish_display_data\u001b[0m\u001b[0;34m(\u001b[0m\u001b[0mdata\u001b[0m\u001b[0;34m=\u001b[0m\u001b[0mobj\u001b[0m\u001b[0;34m,\u001b[0m \u001b[0mmetadata\u001b[0m\u001b[0;34m=\u001b[0m\u001b[0mmetadata\u001b[0m\u001b[0;34m,\u001b[0m \u001b[0;34m**\u001b[0m\u001b[0mkwargs\u001b[0m\u001b[0;34m)\u001b[0m\u001b[0;34m\u001b[0m\u001b[0;34m\u001b[0m\u001b[0m\n\u001b[1;32m    312\u001b[0m         \u001b[0;32melse\u001b[0m\u001b[0;34m:\u001b[0m\u001b[0;34m\u001b[0m\u001b[0;34m\u001b[0m\u001b[0m\n\u001b[0;32m--> 313\u001b[0;31m             \u001b[0mformat_dict\u001b[0m\u001b[0;34m,\u001b[0m \u001b[0mmd_dict\u001b[0m \u001b[0;34m=\u001b[0m \u001b[0mformat\u001b[0m\u001b[0;34m(\u001b[0m\u001b[0mobj\u001b[0m\u001b[0;34m,\u001b[0m \u001b[0minclude\u001b[0m\u001b[0;34m=\u001b[0m\u001b[0minclude\u001b[0m\u001b[0;34m,\u001b[0m \u001b[0mexclude\u001b[0m\u001b[0;34m=\u001b[0m\u001b[0mexclude\u001b[0m\u001b[0;34m)\u001b[0m\u001b[0;34m\u001b[0m\u001b[0;34m\u001b[0m\u001b[0m\n\u001b[0m\u001b[1;32m    314\u001b[0m             \u001b[0;32mif\u001b[0m \u001b[0;32mnot\u001b[0m \u001b[0mformat_dict\u001b[0m\u001b[0;34m:\u001b[0m\u001b[0;34m\u001b[0m\u001b[0;34m\u001b[0m\u001b[0m\n\u001b[1;32m    315\u001b[0m                 \u001b[0;31m# nothing to display (e.g. _ipython_display_ took over)\u001b[0m\u001b[0;34m\u001b[0m\u001b[0;34m\u001b[0m\u001b[0;34m\u001b[0m\u001b[0m\n",
      "\u001b[0;32m~/opt/anaconda3/lib/python3.7/site-packages/IPython/core/formatters.py\u001b[0m in \u001b[0;36mformat\u001b[0;34m(self, obj, include, exclude)\u001b[0m\n\u001b[1;32m    178\u001b[0m             \u001b[0mmd\u001b[0m \u001b[0;34m=\u001b[0m \u001b[0;32mNone\u001b[0m\u001b[0;34m\u001b[0m\u001b[0;34m\u001b[0m\u001b[0m\n\u001b[1;32m    179\u001b[0m             \u001b[0;32mtry\u001b[0m\u001b[0;34m:\u001b[0m\u001b[0;34m\u001b[0m\u001b[0;34m\u001b[0m\u001b[0m\n\u001b[0;32m--> 180\u001b[0;31m                 \u001b[0mdata\u001b[0m \u001b[0;34m=\u001b[0m \u001b[0mformatter\u001b[0m\u001b[0;34m(\u001b[0m\u001b[0mobj\u001b[0m\u001b[0;34m)\u001b[0m\u001b[0;34m\u001b[0m\u001b[0;34m\u001b[0m\u001b[0m\n\u001b[0m\u001b[1;32m    181\u001b[0m             \u001b[0;32mexcept\u001b[0m\u001b[0;34m:\u001b[0m\u001b[0;34m\u001b[0m\u001b[0;34m\u001b[0m\u001b[0m\n\u001b[1;32m    182\u001b[0m                 \u001b[0;31m# FIXME: log the exception\u001b[0m\u001b[0;34m\u001b[0m\u001b[0;34m\u001b[0m\u001b[0;34m\u001b[0m\u001b[0m\n",
      "\u001b[0;32m</Users/mandy/opt/anaconda3/lib/python3.7/site-packages/decorator.py:decorator-gen-9>\u001b[0m in \u001b[0;36m__call__\u001b[0;34m(self, obj)\u001b[0m\n",
      "\u001b[0;32m~/opt/anaconda3/lib/python3.7/site-packages/IPython/core/formatters.py\u001b[0m in \u001b[0;36mcatch_format_error\u001b[0;34m(method, self, *args, **kwargs)\u001b[0m\n\u001b[1;32m    222\u001b[0m     \u001b[0;34m\"\"\"show traceback on failed format call\"\"\"\u001b[0m\u001b[0;34m\u001b[0m\u001b[0;34m\u001b[0m\u001b[0m\n\u001b[1;32m    223\u001b[0m     \u001b[0;32mtry\u001b[0m\u001b[0;34m:\u001b[0m\u001b[0;34m\u001b[0m\u001b[0;34m\u001b[0m\u001b[0m\n\u001b[0;32m--> 224\u001b[0;31m         \u001b[0mr\u001b[0m \u001b[0;34m=\u001b[0m \u001b[0mmethod\u001b[0m\u001b[0;34m(\u001b[0m\u001b[0mself\u001b[0m\u001b[0;34m,\u001b[0m \u001b[0;34m*\u001b[0m\u001b[0margs\u001b[0m\u001b[0;34m,\u001b[0m \u001b[0;34m**\u001b[0m\u001b[0mkwargs\u001b[0m\u001b[0;34m)\u001b[0m\u001b[0;34m\u001b[0m\u001b[0;34m\u001b[0m\u001b[0m\n\u001b[0m\u001b[1;32m    225\u001b[0m     \u001b[0;32mexcept\u001b[0m \u001b[0mNotImplementedError\u001b[0m\u001b[0;34m:\u001b[0m\u001b[0;34m\u001b[0m\u001b[0;34m\u001b[0m\u001b[0m\n\u001b[1;32m    226\u001b[0m         \u001b[0;31m# don't warn on NotImplementedErrors\u001b[0m\u001b[0;34m\u001b[0m\u001b[0;34m\u001b[0m\u001b[0;34m\u001b[0m\u001b[0m\n",
      "\u001b[0;32m~/opt/anaconda3/lib/python3.7/site-packages/IPython/core/formatters.py\u001b[0m in \u001b[0;36m__call__\u001b[0;34m(self, obj)\u001b[0m\n\u001b[1;32m    339\u001b[0m                 \u001b[0;32mpass\u001b[0m\u001b[0;34m\u001b[0m\u001b[0;34m\u001b[0m\u001b[0m\n\u001b[1;32m    340\u001b[0m             \u001b[0;32melse\u001b[0m\u001b[0;34m:\u001b[0m\u001b[0;34m\u001b[0m\u001b[0;34m\u001b[0m\u001b[0m\n\u001b[0;32m--> 341\u001b[0;31m                 \u001b[0;32mreturn\u001b[0m \u001b[0mprinter\u001b[0m\u001b[0;34m(\u001b[0m\u001b[0mobj\u001b[0m\u001b[0;34m)\u001b[0m\u001b[0;34m\u001b[0m\u001b[0;34m\u001b[0m\u001b[0m\n\u001b[0m\u001b[1;32m    342\u001b[0m             \u001b[0;31m# Finally look for special method names\u001b[0m\u001b[0;34m\u001b[0m\u001b[0;34m\u001b[0m\u001b[0;34m\u001b[0m\u001b[0m\n\u001b[1;32m    343\u001b[0m             \u001b[0mmethod\u001b[0m \u001b[0;34m=\u001b[0m \u001b[0mget_real_method\u001b[0m\u001b[0;34m(\u001b[0m\u001b[0mobj\u001b[0m\u001b[0;34m,\u001b[0m \u001b[0mself\u001b[0m\u001b[0;34m.\u001b[0m\u001b[0mprint_method\u001b[0m\u001b[0;34m)\u001b[0m\u001b[0;34m\u001b[0m\u001b[0;34m\u001b[0m\u001b[0m\n",
      "\u001b[0;32m~/opt/anaconda3/lib/python3.7/site-packages/IPython/core/pylabtools.py\u001b[0m in \u001b[0;36m<lambda>\u001b[0;34m(fig)\u001b[0m\n\u001b[1;32m    252\u001b[0m         \u001b[0mjpg_formatter\u001b[0m\u001b[0;34m.\u001b[0m\u001b[0mfor_type\u001b[0m\u001b[0;34m(\u001b[0m\u001b[0mFigure\u001b[0m\u001b[0;34m,\u001b[0m \u001b[0;32mlambda\u001b[0m \u001b[0mfig\u001b[0m\u001b[0;34m:\u001b[0m \u001b[0mprint_figure\u001b[0m\u001b[0;34m(\u001b[0m\u001b[0mfig\u001b[0m\u001b[0;34m,\u001b[0m \u001b[0;34m'jpg'\u001b[0m\u001b[0;34m,\u001b[0m \u001b[0;34m**\u001b[0m\u001b[0mkwargs\u001b[0m\u001b[0;34m)\u001b[0m\u001b[0;34m)\u001b[0m\u001b[0;34m\u001b[0m\u001b[0;34m\u001b[0m\u001b[0m\n\u001b[1;32m    253\u001b[0m     \u001b[0;32mif\u001b[0m \u001b[0;34m'svg'\u001b[0m \u001b[0;32min\u001b[0m \u001b[0mformats\u001b[0m\u001b[0;34m:\u001b[0m\u001b[0;34m\u001b[0m\u001b[0;34m\u001b[0m\u001b[0m\n\u001b[0;32m--> 254\u001b[0;31m         \u001b[0msvg_formatter\u001b[0m\u001b[0;34m.\u001b[0m\u001b[0mfor_type\u001b[0m\u001b[0;34m(\u001b[0m\u001b[0mFigure\u001b[0m\u001b[0;34m,\u001b[0m \u001b[0;32mlambda\u001b[0m \u001b[0mfig\u001b[0m\u001b[0;34m:\u001b[0m \u001b[0mprint_figure\u001b[0m\u001b[0;34m(\u001b[0m\u001b[0mfig\u001b[0m\u001b[0;34m,\u001b[0m \u001b[0;34m'svg'\u001b[0m\u001b[0;34m,\u001b[0m \u001b[0;34m**\u001b[0m\u001b[0mkwargs\u001b[0m\u001b[0;34m)\u001b[0m\u001b[0;34m)\u001b[0m\u001b[0;34m\u001b[0m\u001b[0;34m\u001b[0m\u001b[0m\n\u001b[0m\u001b[1;32m    255\u001b[0m     \u001b[0;32mif\u001b[0m \u001b[0;34m'pdf'\u001b[0m \u001b[0;32min\u001b[0m \u001b[0mformats\u001b[0m\u001b[0;34m:\u001b[0m\u001b[0;34m\u001b[0m\u001b[0;34m\u001b[0m\u001b[0m\n\u001b[1;32m    256\u001b[0m         \u001b[0mpdf_formatter\u001b[0m\u001b[0;34m.\u001b[0m\u001b[0mfor_type\u001b[0m\u001b[0;34m(\u001b[0m\u001b[0mFigure\u001b[0m\u001b[0;34m,\u001b[0m \u001b[0;32mlambda\u001b[0m \u001b[0mfig\u001b[0m\u001b[0;34m:\u001b[0m \u001b[0mprint_figure\u001b[0m\u001b[0;34m(\u001b[0m\u001b[0mfig\u001b[0m\u001b[0;34m,\u001b[0m \u001b[0;34m'pdf'\u001b[0m\u001b[0;34m,\u001b[0m \u001b[0;34m**\u001b[0m\u001b[0mkwargs\u001b[0m\u001b[0;34m)\u001b[0m\u001b[0;34m)\u001b[0m\u001b[0;34m\u001b[0m\u001b[0;34m\u001b[0m\u001b[0m\n",
      "\u001b[0;32m~/opt/anaconda3/lib/python3.7/site-packages/IPython/core/pylabtools.py\u001b[0m in \u001b[0;36mprint_figure\u001b[0;34m(fig, fmt, bbox_inches, **kwargs)\u001b[0m\n\u001b[1;32m    130\u001b[0m         \u001b[0mFigureCanvasBase\u001b[0m\u001b[0;34m(\u001b[0m\u001b[0mfig\u001b[0m\u001b[0;34m)\u001b[0m\u001b[0;34m\u001b[0m\u001b[0;34m\u001b[0m\u001b[0m\n\u001b[1;32m    131\u001b[0m \u001b[0;34m\u001b[0m\u001b[0m\n\u001b[0;32m--> 132\u001b[0;31m     \u001b[0mfig\u001b[0m\u001b[0;34m.\u001b[0m\u001b[0mcanvas\u001b[0m\u001b[0;34m.\u001b[0m\u001b[0mprint_figure\u001b[0m\u001b[0;34m(\u001b[0m\u001b[0mbytes_io\u001b[0m\u001b[0;34m,\u001b[0m \u001b[0;34m**\u001b[0m\u001b[0mkw\u001b[0m\u001b[0;34m)\u001b[0m\u001b[0;34m\u001b[0m\u001b[0;34m\u001b[0m\u001b[0m\n\u001b[0m\u001b[1;32m    133\u001b[0m     \u001b[0mdata\u001b[0m \u001b[0;34m=\u001b[0m \u001b[0mbytes_io\u001b[0m\u001b[0;34m.\u001b[0m\u001b[0mgetvalue\u001b[0m\u001b[0;34m(\u001b[0m\u001b[0;34m)\u001b[0m\u001b[0;34m\u001b[0m\u001b[0;34m\u001b[0m\u001b[0m\n\u001b[1;32m    134\u001b[0m     \u001b[0;32mif\u001b[0m \u001b[0mfmt\u001b[0m \u001b[0;34m==\u001b[0m \u001b[0;34m'svg'\u001b[0m\u001b[0;34m:\u001b[0m\u001b[0;34m\u001b[0m\u001b[0;34m\u001b[0m\u001b[0m\n",
      "\u001b[0;32m~/opt/anaconda3/lib/python3.7/site-packages/matplotlib/backend_bases.py\u001b[0m in \u001b[0;36mprint_figure\u001b[0;34m(self, filename, dpi, facecolor, edgecolor, orientation, format, bbox_inches, **kwargs)\u001b[0m\n\u001b[1;32m   2067\u001b[0m                     \u001b[0mbbox_artists\u001b[0m \u001b[0;34m=\u001b[0m \u001b[0mkwargs\u001b[0m\u001b[0;34m.\u001b[0m\u001b[0mpop\u001b[0m\u001b[0;34m(\u001b[0m\u001b[0;34m\"bbox_extra_artists\"\u001b[0m\u001b[0;34m,\u001b[0m \u001b[0;32mNone\u001b[0m\u001b[0;34m)\u001b[0m\u001b[0;34m\u001b[0m\u001b[0;34m\u001b[0m\u001b[0m\n\u001b[1;32m   2068\u001b[0m                     bbox_inches = self.figure.get_tightbbox(renderer,\n\u001b[0;32m-> 2069\u001b[0;31m                             bbox_extra_artists=bbox_artists)\n\u001b[0m\u001b[1;32m   2070\u001b[0m                     \u001b[0mpad\u001b[0m \u001b[0;34m=\u001b[0m \u001b[0mkwargs\u001b[0m\u001b[0;34m.\u001b[0m\u001b[0mpop\u001b[0m\u001b[0;34m(\u001b[0m\u001b[0;34m\"pad_inches\"\u001b[0m\u001b[0;34m,\u001b[0m \u001b[0;32mNone\u001b[0m\u001b[0;34m)\u001b[0m\u001b[0;34m\u001b[0m\u001b[0;34m\u001b[0m\u001b[0m\n\u001b[1;32m   2071\u001b[0m                     \u001b[0;32mif\u001b[0m \u001b[0mpad\u001b[0m \u001b[0;32mis\u001b[0m \u001b[0;32mNone\u001b[0m\u001b[0;34m:\u001b[0m\u001b[0;34m\u001b[0m\u001b[0;34m\u001b[0m\u001b[0m\n",
      "\u001b[0;32m~/opt/anaconda3/lib/python3.7/site-packages/matplotlib/figure.py\u001b[0m in \u001b[0;36mget_tightbbox\u001b[0;34m(self, renderer, bbox_extra_artists)\u001b[0m\n\u001b[1;32m   2375\u001b[0m                 \u001b[0;32mtry\u001b[0m\u001b[0;34m:\u001b[0m\u001b[0;34m\u001b[0m\u001b[0;34m\u001b[0m\u001b[0m\n\u001b[1;32m   2376\u001b[0m                     bbox = ax.get_tightbbox(renderer,\n\u001b[0;32m-> 2377\u001b[0;31m                             bbox_extra_artists=bbox_extra_artists)\n\u001b[0m\u001b[1;32m   2378\u001b[0m                 \u001b[0;32mexcept\u001b[0m \u001b[0mTypeError\u001b[0m\u001b[0;34m:\u001b[0m\u001b[0;34m\u001b[0m\u001b[0;34m\u001b[0m\u001b[0m\n\u001b[1;32m   2379\u001b[0m                     \u001b[0mbbox\u001b[0m \u001b[0;34m=\u001b[0m \u001b[0max\u001b[0m\u001b[0;34m.\u001b[0m\u001b[0mget_tightbbox\u001b[0m\u001b[0;34m(\u001b[0m\u001b[0mrenderer\u001b[0m\u001b[0;34m)\u001b[0m\u001b[0;34m\u001b[0m\u001b[0;34m\u001b[0m\u001b[0m\n",
      "\u001b[0;32m~/opt/anaconda3/lib/python3.7/site-packages/matplotlib/axes/_base.py\u001b[0m in \u001b[0;36mget_tightbbox\u001b[0;34m(self, renderer, call_axes_locator, bbox_extra_artists)\u001b[0m\n\u001b[1;32m   4393\u001b[0m                     \u001b[0;31m# this artist\u001b[0m\u001b[0;34m\u001b[0m\u001b[0;34m\u001b[0m\u001b[0;34m\u001b[0m\u001b[0m\n\u001b[1;32m   4394\u001b[0m                     \u001b[0;32mcontinue\u001b[0m\u001b[0;34m\u001b[0m\u001b[0;34m\u001b[0m\u001b[0m\n\u001b[0;32m-> 4395\u001b[0;31m             \u001b[0mbbox\u001b[0m \u001b[0;34m=\u001b[0m \u001b[0ma\u001b[0m\u001b[0;34m.\u001b[0m\u001b[0mget_tightbbox\u001b[0m\u001b[0;34m(\u001b[0m\u001b[0mrenderer\u001b[0m\u001b[0;34m)\u001b[0m\u001b[0;34m\u001b[0m\u001b[0;34m\u001b[0m\u001b[0m\n\u001b[0m\u001b[1;32m   4396\u001b[0m             if (bbox is not None\n\u001b[1;32m   4397\u001b[0m                     \u001b[0;32mand\u001b[0m \u001b[0;36m0\u001b[0m \u001b[0;34m<\u001b[0m \u001b[0mbbox\u001b[0m\u001b[0;34m.\u001b[0m\u001b[0mwidth\u001b[0m \u001b[0;34m<\u001b[0m \u001b[0mnp\u001b[0m\u001b[0;34m.\u001b[0m\u001b[0minf\u001b[0m\u001b[0;34m\u001b[0m\u001b[0;34m\u001b[0m\u001b[0m\n",
      "\u001b[0;32m~/opt/anaconda3/lib/python3.7/site-packages/matplotlib/artist.py\u001b[0m in \u001b[0;36mget_tightbbox\u001b[0;34m(self, renderer)\u001b[0m\n\u001b[1;32m    282\u001b[0m             \u001b[0mThe\u001b[0m \u001b[0menclosing\u001b[0m \u001b[0mbounding\u001b[0m \u001b[0mbox\u001b[0m \u001b[0;34m(\u001b[0m\u001b[0;32min\u001b[0m \u001b[0mfigure\u001b[0m \u001b[0mpixel\u001b[0m \u001b[0mco\u001b[0m\u001b[0;34m-\u001b[0m\u001b[0mordinates\u001b[0m\u001b[0;34m)\u001b[0m\u001b[0;34m.\u001b[0m\u001b[0;34m\u001b[0m\u001b[0;34m\u001b[0m\u001b[0m\n\u001b[1;32m    283\u001b[0m         \"\"\"\n\u001b[0;32m--> 284\u001b[0;31m         \u001b[0mbbox\u001b[0m \u001b[0;34m=\u001b[0m \u001b[0mself\u001b[0m\u001b[0;34m.\u001b[0m\u001b[0mget_window_extent\u001b[0m\u001b[0;34m(\u001b[0m\u001b[0mrenderer\u001b[0m\u001b[0;34m)\u001b[0m\u001b[0;34m\u001b[0m\u001b[0;34m\u001b[0m\u001b[0m\n\u001b[0m\u001b[1;32m    285\u001b[0m         \u001b[0;32mif\u001b[0m \u001b[0mself\u001b[0m\u001b[0;34m.\u001b[0m\u001b[0mget_clip_on\u001b[0m\u001b[0;34m(\u001b[0m\u001b[0;34m)\u001b[0m\u001b[0;34m:\u001b[0m\u001b[0;34m\u001b[0m\u001b[0;34m\u001b[0m\u001b[0m\n\u001b[1;32m    286\u001b[0m             \u001b[0mclip_box\u001b[0m \u001b[0;34m=\u001b[0m \u001b[0mself\u001b[0m\u001b[0;34m.\u001b[0m\u001b[0mget_clip_box\u001b[0m\u001b[0;34m(\u001b[0m\u001b[0;34m)\u001b[0m\u001b[0;34m\u001b[0m\u001b[0;34m\u001b[0m\u001b[0m\n",
      "\u001b[0;32m~/opt/anaconda3/lib/python3.7/site-packages/matplotlib/text.py\u001b[0m in \u001b[0;36mget_window_extent\u001b[0;34m(self, renderer)\u001b[0m\n\u001b[1;32m   2393\u001b[0m             \u001b[0;32mraise\u001b[0m \u001b[0mRuntimeError\u001b[0m\u001b[0;34m(\u001b[0m\u001b[0;34m'Cannot get window extent w/o renderer'\u001b[0m\u001b[0;34m)\u001b[0m\u001b[0;34m\u001b[0m\u001b[0;34m\u001b[0m\u001b[0m\n\u001b[1;32m   2394\u001b[0m \u001b[0;34m\u001b[0m\u001b[0m\n\u001b[0;32m-> 2395\u001b[0;31m         \u001b[0mself\u001b[0m\u001b[0;34m.\u001b[0m\u001b[0mupdate_positions\u001b[0m\u001b[0;34m(\u001b[0m\u001b[0mself\u001b[0m\u001b[0;34m.\u001b[0m\u001b[0m_renderer\u001b[0m\u001b[0;34m)\u001b[0m\u001b[0;34m\u001b[0m\u001b[0;34m\u001b[0m\u001b[0m\n\u001b[0m\u001b[1;32m   2396\u001b[0m \u001b[0;34m\u001b[0m\u001b[0m\n\u001b[1;32m   2397\u001b[0m         \u001b[0mtext_bbox\u001b[0m \u001b[0;34m=\u001b[0m \u001b[0mText\u001b[0m\u001b[0;34m.\u001b[0m\u001b[0mget_window_extent\u001b[0m\u001b[0;34m(\u001b[0m\u001b[0mself\u001b[0m\u001b[0;34m)\u001b[0m\u001b[0;34m\u001b[0m\u001b[0;34m\u001b[0m\u001b[0m\n",
      "\u001b[0;32m~/opt/anaconda3/lib/python3.7/site-packages/matplotlib/text.py\u001b[0m in \u001b[0;36mupdate_positions\u001b[0;34m(self, renderer)\u001b[0m\n\u001b[1;32m   2238\u001b[0m     \u001b[0;32mdef\u001b[0m \u001b[0mupdate_positions\u001b[0m\u001b[0;34m(\u001b[0m\u001b[0mself\u001b[0m\u001b[0;34m,\u001b[0m \u001b[0mrenderer\u001b[0m\u001b[0;34m)\u001b[0m\u001b[0;34m:\u001b[0m\u001b[0;34m\u001b[0m\u001b[0;34m\u001b[0m\u001b[0m\n\u001b[1;32m   2239\u001b[0m         \u001b[0;34m\"\"\"Update the pixel positions of the annotated point and the text.\"\"\"\u001b[0m\u001b[0;34m\u001b[0m\u001b[0;34m\u001b[0m\u001b[0m\n\u001b[0;32m-> 2240\u001b[0;31m         \u001b[0mxy_pixel\u001b[0m \u001b[0;34m=\u001b[0m \u001b[0mself\u001b[0m\u001b[0;34m.\u001b[0m\u001b[0m_get_position_xy\u001b[0m\u001b[0;34m(\u001b[0m\u001b[0mrenderer\u001b[0m\u001b[0;34m)\u001b[0m\u001b[0;34m\u001b[0m\u001b[0;34m\u001b[0m\u001b[0m\n\u001b[0m\u001b[1;32m   2241\u001b[0m         \u001b[0mself\u001b[0m\u001b[0;34m.\u001b[0m\u001b[0m_update_position_xytext\u001b[0m\u001b[0;34m(\u001b[0m\u001b[0mrenderer\u001b[0m\u001b[0;34m,\u001b[0m \u001b[0mxy_pixel\u001b[0m\u001b[0;34m)\u001b[0m\u001b[0;34m\u001b[0m\u001b[0;34m\u001b[0m\u001b[0m\n\u001b[1;32m   2242\u001b[0m \u001b[0;34m\u001b[0m\u001b[0m\n",
      "\u001b[0;32m~/opt/anaconda3/lib/python3.7/site-packages/matplotlib/text.py\u001b[0m in \u001b[0;36m_get_position_xy\u001b[0;34m(self, renderer)\u001b[0m\n\u001b[1;32m   1903\u001b[0m         \u001b[0;34m\"Return the pixel position of the annotated point.\"\u001b[0m\u001b[0;34m\u001b[0m\u001b[0;34m\u001b[0m\u001b[0m\n\u001b[1;32m   1904\u001b[0m         \u001b[0mx\u001b[0m\u001b[0;34m,\u001b[0m \u001b[0my\u001b[0m \u001b[0;34m=\u001b[0m \u001b[0mself\u001b[0m\u001b[0;34m.\u001b[0m\u001b[0mxy\u001b[0m\u001b[0;34m\u001b[0m\u001b[0;34m\u001b[0m\u001b[0m\n\u001b[0;32m-> 1905\u001b[0;31m         \u001b[0;32mreturn\u001b[0m \u001b[0mself\u001b[0m\u001b[0;34m.\u001b[0m\u001b[0m_get_xy\u001b[0m\u001b[0;34m(\u001b[0m\u001b[0mrenderer\u001b[0m\u001b[0;34m,\u001b[0m \u001b[0mx\u001b[0m\u001b[0;34m,\u001b[0m \u001b[0my\u001b[0m\u001b[0;34m,\u001b[0m \u001b[0mself\u001b[0m\u001b[0;34m.\u001b[0m\u001b[0mxycoords\u001b[0m\u001b[0;34m)\u001b[0m\u001b[0;34m\u001b[0m\u001b[0;34m\u001b[0m\u001b[0m\n\u001b[0m\u001b[1;32m   1906\u001b[0m \u001b[0;34m\u001b[0m\u001b[0m\n\u001b[1;32m   1907\u001b[0m     \u001b[0;32mdef\u001b[0m \u001b[0m_check_xy\u001b[0m\u001b[0;34m(\u001b[0m\u001b[0mself\u001b[0m\u001b[0;34m,\u001b[0m \u001b[0mrenderer\u001b[0m\u001b[0;34m,\u001b[0m \u001b[0mxy_pixel\u001b[0m\u001b[0;34m)\u001b[0m\u001b[0;34m:\u001b[0m\u001b[0;34m\u001b[0m\u001b[0;34m\u001b[0m\u001b[0m\n",
      "\u001b[0;32m~/opt/anaconda3/lib/python3.7/site-packages/matplotlib/text.py\u001b[0m in \u001b[0;36m_get_xy\u001b[0;34m(self, renderer, x, y, s)\u001b[0m\n\u001b[1;32m   1761\u001b[0m             \u001b[0my\u001b[0m \u001b[0;34m=\u001b[0m \u001b[0mfloat\u001b[0m\u001b[0;34m(\u001b[0m\u001b[0mself\u001b[0m\u001b[0;34m.\u001b[0m\u001b[0mconvert_yunits\u001b[0m\u001b[0;34m(\u001b[0m\u001b[0my\u001b[0m\u001b[0;34m)\u001b[0m\u001b[0;34m)\u001b[0m\u001b[0;34m\u001b[0m\u001b[0;34m\u001b[0m\u001b[0m\n\u001b[1;32m   1762\u001b[0m \u001b[0;34m\u001b[0m\u001b[0m\n\u001b[0;32m-> 1763\u001b[0;31m         \u001b[0mtr\u001b[0m \u001b[0;34m=\u001b[0m \u001b[0mself\u001b[0m\u001b[0;34m.\u001b[0m\u001b[0m_get_xy_transform\u001b[0m\u001b[0;34m(\u001b[0m\u001b[0mrenderer\u001b[0m\u001b[0;34m,\u001b[0m \u001b[0ms\u001b[0m\u001b[0;34m)\u001b[0m\u001b[0;34m\u001b[0m\u001b[0;34m\u001b[0m\u001b[0m\n\u001b[0m\u001b[1;32m   1764\u001b[0m         \u001b[0mx1\u001b[0m\u001b[0;34m,\u001b[0m \u001b[0my1\u001b[0m \u001b[0;34m=\u001b[0m \u001b[0mtr\u001b[0m\u001b[0;34m.\u001b[0m\u001b[0mtransform_point\u001b[0m\u001b[0;34m(\u001b[0m\u001b[0;34m(\u001b[0m\u001b[0mx\u001b[0m\u001b[0;34m,\u001b[0m \u001b[0my\u001b[0m\u001b[0;34m)\u001b[0m\u001b[0;34m)\u001b[0m\u001b[0;34m\u001b[0m\u001b[0;34m\u001b[0m\u001b[0m\n\u001b[1;32m   1765\u001b[0m         \u001b[0;32mreturn\u001b[0m \u001b[0mx1\u001b[0m\u001b[0;34m,\u001b[0m \u001b[0my1\u001b[0m\u001b[0;34m\u001b[0m\u001b[0;34m\u001b[0m\u001b[0m\n",
      "\u001b[0;32m~/opt/anaconda3/lib/python3.7/site-packages/matplotlib/text.py\u001b[0m in \u001b[0;36m_get_xy_transform\u001b[0;34m(self, renderer, s)\u001b[0m\n\u001b[1;32m   1843\u001b[0m                 \u001b[0;32mraise\u001b[0m \u001b[0mValueError\u001b[0m\u001b[0;34m(\u001b[0m\u001b[0;34m\"%s is not a recognized coordinate\"\u001b[0m \u001b[0;34m%\u001b[0m \u001b[0ms\u001b[0m\u001b[0;34m)\u001b[0m\u001b[0;34m\u001b[0m\u001b[0;34m\u001b[0m\u001b[0m\n\u001b[1;32m   1844\u001b[0m \u001b[0;34m\u001b[0m\u001b[0m\n\u001b[0;32m-> 1845\u001b[0;31m             \u001b[0;32mreturn\u001b[0m \u001b[0mtr\u001b[0m\u001b[0;34m.\u001b[0m\u001b[0mtranslate\u001b[0m\u001b[0;34m(\u001b[0m\u001b[0mref_x\u001b[0m\u001b[0;34m,\u001b[0m \u001b[0mref_y\u001b[0m\u001b[0;34m)\u001b[0m\u001b[0;34m\u001b[0m\u001b[0;34m\u001b[0m\u001b[0m\n\u001b[0m\u001b[1;32m   1846\u001b[0m \u001b[0;34m\u001b[0m\u001b[0m\n\u001b[1;32m   1847\u001b[0m         \u001b[0;32melse\u001b[0m\u001b[0;34m:\u001b[0m\u001b[0;34m\u001b[0m\u001b[0;34m\u001b[0m\u001b[0m\n",
      "\u001b[0;32m~/opt/anaconda3/lib/python3.7/site-packages/matplotlib/transforms.py\u001b[0m in \u001b[0;36mtranslate\u001b[0;34m(self, tx, ty)\u001b[0m\n\u001b[1;32m   1969\u001b[0m         \"\"\"\n\u001b[1;32m   1970\u001b[0m         translate_mtx = np.array(\n\u001b[0;32m-> 1971\u001b[0;31m             [[1.0, 0.0, tx], [0.0, 1.0, ty], [0.0, 0.0, 1.0]], float)\n\u001b[0m\u001b[1;32m   1972\u001b[0m         \u001b[0mself\u001b[0m\u001b[0;34m.\u001b[0m\u001b[0m_mtx\u001b[0m \u001b[0;34m=\u001b[0m \u001b[0mnp\u001b[0m\u001b[0;34m.\u001b[0m\u001b[0mdot\u001b[0m\u001b[0;34m(\u001b[0m\u001b[0mtranslate_mtx\u001b[0m\u001b[0;34m,\u001b[0m \u001b[0mself\u001b[0m\u001b[0;34m.\u001b[0m\u001b[0m_mtx\u001b[0m\u001b[0;34m)\u001b[0m\u001b[0;34m\u001b[0m\u001b[0;34m\u001b[0m\u001b[0m\n\u001b[1;32m   1973\u001b[0m         \u001b[0mself\u001b[0m\u001b[0;34m.\u001b[0m\u001b[0minvalidate\u001b[0m\u001b[0;34m(\u001b[0m\u001b[0;34m)\u001b[0m\u001b[0;34m\u001b[0m\u001b[0;34m\u001b[0m\u001b[0m\n",
      "\u001b[0;31mKeyboardInterrupt\u001b[0m: "
     ]
    }
   ],
   "source": [
    "from sklearn import tree\n",
    "tree.plot_tree(dtreemodel)"
   ]
  },
  {
   "source": [
    "## 2 - KNN"
   ],
   "cell_type": "markdown",
   "metadata": {}
  },
  {
   "source": [
    "### Feature Scaling - MinMaxScaler"
   ],
   "cell_type": "markdown",
   "metadata": {}
  },
  {
   "cell_type": "code",
   "execution_count": 23,
   "metadata": {},
   "outputs": [],
   "source": [
    "X = numdf_i.drop(columns='genre')\n",
    "y = numdf_i['genre']"
   ]
  },
  {
   "cell_type": "code",
   "execution_count": 24,
   "metadata": {},
   "outputs": [
    {
     "output_type": "stream",
     "name": "stdout",
     "text": [
      "original data:\n       danceability  energy  key  loudness  mode  speechiness  acousticness  \\\n0             0.831   0.814  2.0    -7.364   1.0       0.4200      0.059800   \n1             0.719   0.493  8.0    -7.230   1.0       0.0794      0.401000   \n2             0.850   0.893  5.0    -4.783   1.0       0.0623      0.013800   \n4             0.798   0.624  2.0    -7.668   1.0       0.2930      0.217000   \n5             0.721   0.568  0.0   -11.295   1.0       0.4140      0.045200   \n...             ...     ...  ...       ...   ...          ...           ...   \n42300         0.528   0.693  4.0    -5.148   1.0       0.0304      0.031500   \n42301         0.517   0.768  0.0    -7.922   0.0       0.0479      0.022500   \n42302         0.361   0.821  8.0    -3.102   1.0       0.0505      0.026000   \n42303         0.477   0.921  6.0    -4.777   0.0       0.0392      0.000551   \n42304         0.529   0.945  9.0    -5.862   1.0       0.0615      0.001890   \n\n       instrumentalness  liveness  valence    tempo  duration_ms  \\\n0              0.013400    0.0556   0.3890  156.985     124539.0   \n1              0.000000    0.1180   0.1240  115.080     224427.0   \n2              0.000004    0.3720   0.0391  218.050      98821.0   \n4              0.000000    0.1660   0.5910  147.988     123298.0   \n5              0.212000    0.1280   0.1090  144.915     112511.0   \n...                 ...       ...      ...      ...          ...   \n42300          0.000345    0.1210   0.3940  150.013     269208.0   \n42301          0.000018    0.2050   0.3830  149.928     210112.0   \n42302          0.000242    0.3850   0.1240  154.935     234823.0   \n42303          0.029600    0.0575   0.4880  150.042     323200.0   \n42304          0.000055    0.4140   0.1340  155.047     162161.0   \n\n       time_signature  \n0                 4.0  \n1                 4.0  \n2                 4.0  \n4                 4.0  \n5                 4.0  \n...               ...  \n42300             4.0  \n42301             4.0  \n42302             4.0  \n42303             4.0  \n42304             4.0  \n\n[37477 rows x 13 columns]\nRescaled data:\n[[0.807 0.762 0.182 ... 0.568 0.149 0.   ]\n [0.67  0.352 0.727 ... 0.274 0.345 0.   ]\n [0.831 0.863 0.455 ... 0.996 0.099 0.   ]\n ...\n [0.231 0.771 0.727 ... 0.553 0.365 0.   ]\n [0.373 0.899 0.545 ... 0.519 0.538 0.   ]\n [0.437 0.93  0.818 ... 0.554 0.223 0.   ]]\n"
     ]
    }
   ],
   "source": [
    "import scipy\n",
    "import numpy\n",
    "from sklearn.preprocessing import MinMaxScaler\n",
    "## maka an object\n",
    "scaler = MinMaxScaler(feature_range=(0, 1))\n",
    "rescaledX = scaler.fit_transform(X)\n",
    "# summarize transformed data\n",
    "numpy.set_printoptions(precision=3)\n",
    "# compare the difference before and after rescaled\n",
    "print('original data:')\n",
    "print(X)\n",
    "print(\"Rescaled data:\")\n",
    "print(rescaledX)"
   ]
  },
  {
   "source": [
    "#### Train the Model "
   ],
   "cell_type": "markdown",
   "metadata": {}
  },
  {
   "cell_type": "code",
   "execution_count": 25,
   "metadata": {},
   "outputs": [],
   "source": [
    "# splitting the data into training and test sets (80:20)\n",
    "#from sklearn.cross_validation import train_test_split\n",
    "from sklearn.model_selection import train_test_split\n",
    "X_train,X_test,y_train,y_test = train_test_split(rescaledX,y,test_size=0.2,random_state=44)"
   ]
  },
  {
   "cell_type": "code",
   "execution_count": 26,
   "metadata": {},
   "outputs": [
    {
     "output_type": "execute_result",
     "data": {
      "text/plain": [
       "{1: 0.5248132337246532,\n",
       " 2: 0.5004002134471718,\n",
       " 3: 0.5272145144076841,\n",
       " 4: 0.5372198505869797,\n",
       " 5: 0.5441568836712913,\n",
       " 6: 0.5444236926360726,\n",
       " 7: 0.5494930629669157,\n",
       " 8: 0.551760939167556,\n",
       " 9: 0.554162219850587,\n",
       " 10: 0.5612326574172892,\n",
       " 11: 0.5584311632870864,\n",
       " 12: 0.5588313767342583,\n",
       " 13: 0.5605656350053362,\n",
       " 14: 0.5644343649946638,\n",
       " 15: 0.5639007470651014,\n",
       " 16: 0.5636339381003201,\n",
       " 17: 0.566435432230523,\n",
       " 18: 0.5693703308431163,\n",
       " 19: 0.5665688367129136,\n",
       " 20: 0.5659018143009605,\n",
       " 21: 0.5680362860192102,\n",
       " 22: 0.5685699039487727,\n",
       " 23: 0.5665688367129136,\n",
       " 24: 0.5665688367129136,\n",
       " 25: 0.5675026680896478}"
      ]
     },
     "metadata": {},
     "execution_count": 26
    }
   ],
   "source": [
    "#import the KNeighborsClassifier class from sklearn\n",
    "from sklearn.neighbors import KNeighborsClassifier\n",
    "\n",
    "#import metrics model to check the accuracy \n",
    "from sklearn import metrics\n",
    "\n",
    "#Try running from k=1 through 25 and record testing accuracy\n",
    "k_range = range(1,26)  # setting the k from 1-25\n",
    "scores = {}     # record the accuracy\n",
    "scores_list = []\n",
    "for k in k_range:\n",
    "        knn = KNeighborsClassifier(n_neighbors=k)\n",
    "        knn.fit(X_train,y_train)\n",
    "        y_pred=knn.predict(X_test)\n",
    "        scores[k] = metrics.accuracy_score(y_test,y_pred)\n",
    "        scores_list.append(metrics.accuracy_score(y_test,y_pred))\n",
    "\n",
    "scores"
   ]
  },
  {
   "cell_type": "code",
   "execution_count": 27,
   "metadata": {},
   "outputs": [
    {
     "output_type": "execute_result",
     "data": {
      "text/plain": [
       "Text(0, 0.5, 'Testing Accuracy')"
      ]
     },
     "metadata": {},
     "execution_count": 27
    },
    {
     "output_type": "display_data",
     "data": {
      "text/plain": "<Figure size 432x288 with 1 Axes>",
      "image/svg+xml": "<?xml version=\"1.0\" encoding=\"utf-8\" standalone=\"no\"?>\n<!DOCTYPE svg PUBLIC \"-//W3C//DTD SVG 1.1//EN\"\n  \"http://www.w3.org/Graphics/SVG/1.1/DTD/svg11.dtd\">\n<!-- Created with matplotlib (https://matplotlib.org/) -->\n<svg height=\"262.19625pt\" version=\"1.1\" viewBox=\"0 0 392.14375 262.19625\" width=\"392.14375pt\" xmlns=\"http://www.w3.org/2000/svg\" xmlns:xlink=\"http://www.w3.org/1999/xlink\">\n <defs>\n  <style type=\"text/css\">\n*{stroke-linecap:butt;stroke-linejoin:round;}\n  </style>\n </defs>\n <g id=\"figure_1\">\n  <g id=\"patch_1\">\n   <path d=\"M 0 262.19625 \nL 392.14375 262.19625 \nL 392.14375 0 \nL 0 0 \nz\n\" style=\"fill:none;\"/>\n  </g>\n  <g id=\"axes_1\">\n   <g id=\"patch_2\">\n    <path d=\"M 50.14375 224.64 \nL 384.94375 224.64 \nL 384.94375 7.2 \nL 50.14375 7.2 \nz\n\" style=\"fill:#ffffff;\"/>\n   </g>\n   <g id=\"matplotlib.axis_1\">\n    <g id=\"xtick_1\">\n     <g id=\"line2d_1\">\n      <defs>\n       <path d=\"M 0 0 \nL 0 3.5 \n\" id=\"m7e66b039b0\" style=\"stroke:#000000;stroke-width:0.8;\"/>\n      </defs>\n      <g>\n       <use style=\"stroke:#000000;stroke-width:0.8;\" x=\"52.680114\" xlink:href=\"#m7e66b039b0\" y=\"224.64\"/>\n      </g>\n     </g>\n     <g id=\"text_1\">\n      <!-- 0 -->\n      <defs>\n       <path d=\"M 31.78125 66.40625 \nQ 24.171875 66.40625 20.328125 58.90625 \nQ 16.5 51.421875 16.5 36.375 \nQ 16.5 21.390625 20.328125 13.890625 \nQ 24.171875 6.390625 31.78125 6.390625 \nQ 39.453125 6.390625 43.28125 13.890625 \nQ 47.125 21.390625 47.125 36.375 \nQ 47.125 51.421875 43.28125 58.90625 \nQ 39.453125 66.40625 31.78125 66.40625 \nz\nM 31.78125 74.21875 \nQ 44.046875 74.21875 50.515625 64.515625 \nQ 56.984375 54.828125 56.984375 36.375 \nQ 56.984375 17.96875 50.515625 8.265625 \nQ 44.046875 -1.421875 31.78125 -1.421875 \nQ 19.53125 -1.421875 13.0625 8.265625 \nQ 6.59375 17.96875 6.59375 36.375 \nQ 6.59375 54.828125 13.0625 64.515625 \nQ 19.53125 74.21875 31.78125 74.21875 \nz\n\" id=\"DejaVuSans-48\"/>\n      </defs>\n      <g transform=\"translate(49.498864 239.238438)scale(0.1 -0.1)\">\n       <use xlink:href=\"#DejaVuSans-48\"/>\n      </g>\n     </g>\n    </g>\n    <g id=\"xtick_2\">\n     <g id=\"line2d_2\">\n      <g>\n       <use style=\"stroke:#000000;stroke-width:0.8;\" x=\"116.089205\" xlink:href=\"#m7e66b039b0\" y=\"224.64\"/>\n      </g>\n     </g>\n     <g id=\"text_2\">\n      <!-- 5 -->\n      <defs>\n       <path d=\"M 10.796875 72.90625 \nL 49.515625 72.90625 \nL 49.515625 64.59375 \nL 19.828125 64.59375 \nL 19.828125 46.734375 \nQ 21.96875 47.46875 24.109375 47.828125 \nQ 26.265625 48.1875 28.421875 48.1875 \nQ 40.625 48.1875 47.75 41.5 \nQ 54.890625 34.8125 54.890625 23.390625 \nQ 54.890625 11.625 47.5625 5.09375 \nQ 40.234375 -1.421875 26.90625 -1.421875 \nQ 22.3125 -1.421875 17.546875 -0.640625 \nQ 12.796875 0.140625 7.71875 1.703125 \nL 7.71875 11.625 \nQ 12.109375 9.234375 16.796875 8.0625 \nQ 21.484375 6.890625 26.703125 6.890625 \nQ 35.15625 6.890625 40.078125 11.328125 \nQ 45.015625 15.765625 45.015625 23.390625 \nQ 45.015625 31 40.078125 35.4375 \nQ 35.15625 39.890625 26.703125 39.890625 \nQ 22.75 39.890625 18.8125 39.015625 \nQ 14.890625 38.140625 10.796875 36.28125 \nz\n\" id=\"DejaVuSans-53\"/>\n      </defs>\n      <g transform=\"translate(112.907955 239.238438)scale(0.1 -0.1)\">\n       <use xlink:href=\"#DejaVuSans-53\"/>\n      </g>\n     </g>\n    </g>\n    <g id=\"xtick_3\">\n     <g id=\"line2d_3\">\n      <g>\n       <use style=\"stroke:#000000;stroke-width:0.8;\" x=\"179.498295\" xlink:href=\"#m7e66b039b0\" y=\"224.64\"/>\n      </g>\n     </g>\n     <g id=\"text_3\">\n      <!-- 10 -->\n      <defs>\n       <path d=\"M 12.40625 8.296875 \nL 28.515625 8.296875 \nL 28.515625 63.921875 \nL 10.984375 60.40625 \nL 10.984375 69.390625 \nL 28.421875 72.90625 \nL 38.28125 72.90625 \nL 38.28125 8.296875 \nL 54.390625 8.296875 \nL 54.390625 0 \nL 12.40625 0 \nz\n\" id=\"DejaVuSans-49\"/>\n      </defs>\n      <g transform=\"translate(173.135795 239.238438)scale(0.1 -0.1)\">\n       <use xlink:href=\"#DejaVuSans-49\"/>\n       <use x=\"63.623047\" xlink:href=\"#DejaVuSans-48\"/>\n      </g>\n     </g>\n    </g>\n    <g id=\"xtick_4\">\n     <g id=\"line2d_4\">\n      <g>\n       <use style=\"stroke:#000000;stroke-width:0.8;\" x=\"242.907386\" xlink:href=\"#m7e66b039b0\" y=\"224.64\"/>\n      </g>\n     </g>\n     <g id=\"text_4\">\n      <!-- 15 -->\n      <g transform=\"translate(236.544886 239.238438)scale(0.1 -0.1)\">\n       <use xlink:href=\"#DejaVuSans-49\"/>\n       <use x=\"63.623047\" xlink:href=\"#DejaVuSans-53\"/>\n      </g>\n     </g>\n    </g>\n    <g id=\"xtick_5\">\n     <g id=\"line2d_5\">\n      <g>\n       <use style=\"stroke:#000000;stroke-width:0.8;\" x=\"306.316477\" xlink:href=\"#m7e66b039b0\" y=\"224.64\"/>\n      </g>\n     </g>\n     <g id=\"text_5\">\n      <!-- 20 -->\n      <defs>\n       <path d=\"M 19.1875 8.296875 \nL 53.609375 8.296875 \nL 53.609375 0 \nL 7.328125 0 \nL 7.328125 8.296875 \nQ 12.9375 14.109375 22.625 23.890625 \nQ 32.328125 33.6875 34.8125 36.53125 \nQ 39.546875 41.84375 41.421875 45.53125 \nQ 43.3125 49.21875 43.3125 52.78125 \nQ 43.3125 58.59375 39.234375 62.25 \nQ 35.15625 65.921875 28.609375 65.921875 \nQ 23.96875 65.921875 18.8125 64.3125 \nQ 13.671875 62.703125 7.8125 59.421875 \nL 7.8125 69.390625 \nQ 13.765625 71.78125 18.9375 73 \nQ 24.125 74.21875 28.421875 74.21875 \nQ 39.75 74.21875 46.484375 68.546875 \nQ 53.21875 62.890625 53.21875 53.421875 \nQ 53.21875 48.921875 51.53125 44.890625 \nQ 49.859375 40.875 45.40625 35.40625 \nQ 44.1875 33.984375 37.640625 27.21875 \nQ 31.109375 20.453125 19.1875 8.296875 \nz\n\" id=\"DejaVuSans-50\"/>\n      </defs>\n      <g transform=\"translate(299.953977 239.238438)scale(0.1 -0.1)\">\n       <use xlink:href=\"#DejaVuSans-50\"/>\n       <use x=\"63.623047\" xlink:href=\"#DejaVuSans-48\"/>\n      </g>\n     </g>\n    </g>\n    <g id=\"xtick_6\">\n     <g id=\"line2d_6\">\n      <g>\n       <use style=\"stroke:#000000;stroke-width:0.8;\" x=\"369.725568\" xlink:href=\"#m7e66b039b0\" y=\"224.64\"/>\n      </g>\n     </g>\n     <g id=\"text_6\">\n      <!-- 25 -->\n      <g transform=\"translate(363.363068 239.238438)scale(0.1 -0.1)\">\n       <use xlink:href=\"#DejaVuSans-50\"/>\n       <use x=\"63.623047\" xlink:href=\"#DejaVuSans-53\"/>\n      </g>\n     </g>\n    </g>\n    <g id=\"text_7\">\n     <!-- Value of K for KNN -->\n     <defs>\n      <path d=\"M 28.609375 0 \nL 0.78125 72.90625 \nL 11.078125 72.90625 \nL 34.1875 11.53125 \nL 57.328125 72.90625 \nL 67.578125 72.90625 \nL 39.796875 0 \nz\n\" id=\"DejaVuSans-86\"/>\n      <path d=\"M 34.28125 27.484375 \nQ 23.390625 27.484375 19.1875 25 \nQ 14.984375 22.515625 14.984375 16.5 \nQ 14.984375 11.71875 18.140625 8.90625 \nQ 21.296875 6.109375 26.703125 6.109375 \nQ 34.1875 6.109375 38.703125 11.40625 \nQ 43.21875 16.703125 43.21875 25.484375 \nL 43.21875 27.484375 \nz\nM 52.203125 31.203125 \nL 52.203125 0 \nL 43.21875 0 \nL 43.21875 8.296875 \nQ 40.140625 3.328125 35.546875 0.953125 \nQ 30.953125 -1.421875 24.3125 -1.421875 \nQ 15.921875 -1.421875 10.953125 3.296875 \nQ 6 8.015625 6 15.921875 \nQ 6 25.140625 12.171875 29.828125 \nQ 18.359375 34.515625 30.609375 34.515625 \nL 43.21875 34.515625 \nL 43.21875 35.40625 \nQ 43.21875 41.609375 39.140625 45 \nQ 35.0625 48.390625 27.6875 48.390625 \nQ 23 48.390625 18.546875 47.265625 \nQ 14.109375 46.140625 10.015625 43.890625 \nL 10.015625 52.203125 \nQ 14.9375 54.109375 19.578125 55.046875 \nQ 24.21875 56 28.609375 56 \nQ 40.484375 56 46.34375 49.84375 \nQ 52.203125 43.703125 52.203125 31.203125 \nz\n\" id=\"DejaVuSans-97\"/>\n      <path d=\"M 9.421875 75.984375 \nL 18.40625 75.984375 \nL 18.40625 0 \nL 9.421875 0 \nz\n\" id=\"DejaVuSans-108\"/>\n      <path d=\"M 8.5 21.578125 \nL 8.5 54.6875 \nL 17.484375 54.6875 \nL 17.484375 21.921875 \nQ 17.484375 14.15625 20.5 10.265625 \nQ 23.53125 6.390625 29.59375 6.390625 \nQ 36.859375 6.390625 41.078125 11.03125 \nQ 45.3125 15.671875 45.3125 23.6875 \nL 45.3125 54.6875 \nL 54.296875 54.6875 \nL 54.296875 0 \nL 45.3125 0 \nL 45.3125 8.40625 \nQ 42.046875 3.421875 37.71875 1 \nQ 33.40625 -1.421875 27.6875 -1.421875 \nQ 18.265625 -1.421875 13.375 4.4375 \nQ 8.5 10.296875 8.5 21.578125 \nz\nM 31.109375 56 \nz\n\" id=\"DejaVuSans-117\"/>\n      <path d=\"M 56.203125 29.59375 \nL 56.203125 25.203125 \nL 14.890625 25.203125 \nQ 15.484375 15.921875 20.484375 11.0625 \nQ 25.484375 6.203125 34.421875 6.203125 \nQ 39.59375 6.203125 44.453125 7.46875 \nQ 49.3125 8.734375 54.109375 11.28125 \nL 54.109375 2.78125 \nQ 49.265625 0.734375 44.1875 -0.34375 \nQ 39.109375 -1.421875 33.890625 -1.421875 \nQ 20.796875 -1.421875 13.15625 6.1875 \nQ 5.515625 13.8125 5.515625 26.8125 \nQ 5.515625 40.234375 12.765625 48.109375 \nQ 20.015625 56 32.328125 56 \nQ 43.359375 56 49.78125 48.890625 \nQ 56.203125 41.796875 56.203125 29.59375 \nz\nM 47.21875 32.234375 \nQ 47.125 39.59375 43.09375 43.984375 \nQ 39.0625 48.390625 32.421875 48.390625 \nQ 24.90625 48.390625 20.390625 44.140625 \nQ 15.875 39.890625 15.1875 32.171875 \nz\n\" id=\"DejaVuSans-101\"/>\n      <path id=\"DejaVuSans-32\"/>\n      <path d=\"M 30.609375 48.390625 \nQ 23.390625 48.390625 19.1875 42.75 \nQ 14.984375 37.109375 14.984375 27.296875 \nQ 14.984375 17.484375 19.15625 11.84375 \nQ 23.34375 6.203125 30.609375 6.203125 \nQ 37.796875 6.203125 41.984375 11.859375 \nQ 46.1875 17.53125 46.1875 27.296875 \nQ 46.1875 37.015625 41.984375 42.703125 \nQ 37.796875 48.390625 30.609375 48.390625 \nz\nM 30.609375 56 \nQ 42.328125 56 49.015625 48.375 \nQ 55.71875 40.765625 55.71875 27.296875 \nQ 55.71875 13.875 49.015625 6.21875 \nQ 42.328125 -1.421875 30.609375 -1.421875 \nQ 18.84375 -1.421875 12.171875 6.21875 \nQ 5.515625 13.875 5.515625 27.296875 \nQ 5.515625 40.765625 12.171875 48.375 \nQ 18.84375 56 30.609375 56 \nz\n\" id=\"DejaVuSans-111\"/>\n      <path d=\"M 37.109375 75.984375 \nL 37.109375 68.5 \nL 28.515625 68.5 \nQ 23.6875 68.5 21.796875 66.546875 \nQ 19.921875 64.59375 19.921875 59.515625 \nL 19.921875 54.6875 \nL 34.71875 54.6875 \nL 34.71875 47.703125 \nL 19.921875 47.703125 \nL 19.921875 0 \nL 10.890625 0 \nL 10.890625 47.703125 \nL 2.296875 47.703125 \nL 2.296875 54.6875 \nL 10.890625 54.6875 \nL 10.890625 58.5 \nQ 10.890625 67.625 15.140625 71.796875 \nQ 19.390625 75.984375 28.609375 75.984375 \nz\n\" id=\"DejaVuSans-102\"/>\n      <path d=\"M 9.8125 72.90625 \nL 19.671875 72.90625 \nL 19.671875 42.09375 \nL 52.390625 72.90625 \nL 65.09375 72.90625 \nL 28.90625 38.921875 \nL 67.671875 0 \nL 54.6875 0 \nL 19.671875 35.109375 \nL 19.671875 0 \nL 9.8125 0 \nz\n\" id=\"DejaVuSans-75\"/>\n      <path d=\"M 41.109375 46.296875 \nQ 39.59375 47.171875 37.8125 47.578125 \nQ 36.03125 48 33.890625 48 \nQ 26.265625 48 22.1875 43.046875 \nQ 18.109375 38.09375 18.109375 28.8125 \nL 18.109375 0 \nL 9.078125 0 \nL 9.078125 54.6875 \nL 18.109375 54.6875 \nL 18.109375 46.1875 \nQ 20.953125 51.171875 25.484375 53.578125 \nQ 30.03125 56 36.53125 56 \nQ 37.453125 56 38.578125 55.875 \nQ 39.703125 55.765625 41.0625 55.515625 \nz\n\" id=\"DejaVuSans-114\"/>\n      <path d=\"M 9.8125 72.90625 \nL 23.09375 72.90625 \nL 55.421875 11.921875 \nL 55.421875 72.90625 \nL 64.984375 72.90625 \nL 64.984375 0 \nL 51.703125 0 \nL 19.390625 60.984375 \nL 19.390625 0 \nL 9.8125 0 \nz\n\" id=\"DejaVuSans-78\"/>\n     </defs>\n     <g transform=\"translate(171.340625 252.916563)scale(0.1 -0.1)\">\n      <use xlink:href=\"#DejaVuSans-86\"/>\n      <use x=\"68.298828\" xlink:href=\"#DejaVuSans-97\"/>\n      <use x=\"129.578125\" xlink:href=\"#DejaVuSans-108\"/>\n      <use x=\"157.361328\" xlink:href=\"#DejaVuSans-117\"/>\n      <use x=\"220.740234\" xlink:href=\"#DejaVuSans-101\"/>\n      <use x=\"282.263672\" xlink:href=\"#DejaVuSans-32\"/>\n      <use x=\"314.050781\" xlink:href=\"#DejaVuSans-111\"/>\n      <use x=\"375.232422\" xlink:href=\"#DejaVuSans-102\"/>\n      <use x=\"410.4375\" xlink:href=\"#DejaVuSans-32\"/>\n      <use x=\"442.224609\" xlink:href=\"#DejaVuSans-75\"/>\n      <use x=\"507.800781\" xlink:href=\"#DejaVuSans-32\"/>\n      <use x=\"539.587891\" xlink:href=\"#DejaVuSans-102\"/>\n      <use x=\"574.792969\" xlink:href=\"#DejaVuSans-111\"/>\n      <use x=\"635.974609\" xlink:href=\"#DejaVuSans-114\"/>\n      <use x=\"677.087891\" xlink:href=\"#DejaVuSans-32\"/>\n      <use x=\"708.875\" xlink:href=\"#DejaVuSans-75\"/>\n      <use x=\"774.451172\" xlink:href=\"#DejaVuSans-78\"/>\n      <use x=\"849.255859\" xlink:href=\"#DejaVuSans-78\"/>\n     </g>\n    </g>\n   </g>\n   <g id=\"matplotlib.axis_2\">\n    <g id=\"ytick_1\">\n     <g id=\"line2d_7\">\n      <defs>\n       <path d=\"M 0 0 \nL -3.5 0 \n\" id=\"mdda085ad59\" style=\"stroke:#000000;stroke-width:0.8;\"/>\n      </defs>\n      <g>\n       <use style=\"stroke:#000000;stroke-width:0.8;\" x=\"50.14375\" xlink:href=\"#mdda085ad59\" y=\"215.903401\"/>\n      </g>\n     </g>\n     <g id=\"text_8\">\n      <!-- 0.50 -->\n      <defs>\n       <path d=\"M 10.6875 12.40625 \nL 21 12.40625 \nL 21 0 \nL 10.6875 0 \nz\n\" id=\"DejaVuSans-46\"/>\n      </defs>\n      <g transform=\"translate(20.878125 219.702619)scale(0.1 -0.1)\">\n       <use xlink:href=\"#DejaVuSans-48\"/>\n       <use x=\"63.623047\" xlink:href=\"#DejaVuSans-46\"/>\n       <use x=\"95.410156\" xlink:href=\"#DejaVuSans-53\"/>\n       <use x=\"159.033203\" xlink:href=\"#DejaVuSans-48\"/>\n      </g>\n     </g>\n    </g>\n    <g id=\"ytick_2\">\n     <g id=\"line2d_8\">\n      <g>\n       <use style=\"stroke:#000000;stroke-width:0.8;\" x=\"50.14375\" xlink:href=\"#mdda085ad59\" y=\"187.242767\"/>\n      </g>\n     </g>\n     <g id=\"text_9\">\n      <!-- 0.51 -->\n      <g transform=\"translate(20.878125 191.041986)scale(0.1 -0.1)\">\n       <use xlink:href=\"#DejaVuSans-48\"/>\n       <use x=\"63.623047\" xlink:href=\"#DejaVuSans-46\"/>\n       <use x=\"95.410156\" xlink:href=\"#DejaVuSans-53\"/>\n       <use x=\"159.033203\" xlink:href=\"#DejaVuSans-49\"/>\n      </g>\n     </g>\n    </g>\n    <g id=\"ytick_3\">\n     <g id=\"line2d_9\">\n      <g>\n       <use style=\"stroke:#000000;stroke-width:0.8;\" x=\"50.14375\" xlink:href=\"#mdda085ad59\" y=\"158.582133\"/>\n      </g>\n     </g>\n     <g id=\"text_10\">\n      <!-- 0.52 -->\n      <g transform=\"translate(20.878125 162.381352)scale(0.1 -0.1)\">\n       <use xlink:href=\"#DejaVuSans-48\"/>\n       <use x=\"63.623047\" xlink:href=\"#DejaVuSans-46\"/>\n       <use x=\"95.410156\" xlink:href=\"#DejaVuSans-53\"/>\n       <use x=\"159.033203\" xlink:href=\"#DejaVuSans-50\"/>\n      </g>\n     </g>\n    </g>\n    <g id=\"ytick_4\">\n     <g id=\"line2d_10\">\n      <g>\n       <use style=\"stroke:#000000;stroke-width:0.8;\" x=\"50.14375\" xlink:href=\"#mdda085ad59\" y=\"129.9215\"/>\n      </g>\n     </g>\n     <g id=\"text_11\">\n      <!-- 0.53 -->\n      <defs>\n       <path d=\"M 40.578125 39.3125 \nQ 47.65625 37.796875 51.625 33 \nQ 55.609375 28.21875 55.609375 21.1875 \nQ 55.609375 10.40625 48.1875 4.484375 \nQ 40.765625 -1.421875 27.09375 -1.421875 \nQ 22.515625 -1.421875 17.65625 -0.515625 \nQ 12.796875 0.390625 7.625 2.203125 \nL 7.625 11.71875 \nQ 11.71875 9.328125 16.59375 8.109375 \nQ 21.484375 6.890625 26.8125 6.890625 \nQ 36.078125 6.890625 40.9375 10.546875 \nQ 45.796875 14.203125 45.796875 21.1875 \nQ 45.796875 27.640625 41.28125 31.265625 \nQ 36.765625 34.90625 28.71875 34.90625 \nL 20.21875 34.90625 \nL 20.21875 43.015625 \nL 29.109375 43.015625 \nQ 36.375 43.015625 40.234375 45.921875 \nQ 44.09375 48.828125 44.09375 54.296875 \nQ 44.09375 59.90625 40.109375 62.90625 \nQ 36.140625 65.921875 28.71875 65.921875 \nQ 24.65625 65.921875 20.015625 65.03125 \nQ 15.375 64.15625 9.8125 62.3125 \nL 9.8125 71.09375 \nQ 15.4375 72.65625 20.34375 73.4375 \nQ 25.25 74.21875 29.59375 74.21875 \nQ 40.828125 74.21875 47.359375 69.109375 \nQ 53.90625 64.015625 53.90625 55.328125 \nQ 53.90625 49.265625 50.4375 45.09375 \nQ 46.96875 40.921875 40.578125 39.3125 \nz\n\" id=\"DejaVuSans-51\"/>\n      </defs>\n      <g transform=\"translate(20.878125 133.720718)scale(0.1 -0.1)\">\n       <use xlink:href=\"#DejaVuSans-48\"/>\n       <use x=\"63.623047\" xlink:href=\"#DejaVuSans-46\"/>\n       <use x=\"95.410156\" xlink:href=\"#DejaVuSans-53\"/>\n       <use x=\"159.033203\" xlink:href=\"#DejaVuSans-51\"/>\n      </g>\n     </g>\n    </g>\n    <g id=\"ytick_5\">\n     <g id=\"line2d_11\">\n      <g>\n       <use style=\"stroke:#000000;stroke-width:0.8;\" x=\"50.14375\" xlink:href=\"#mdda085ad59\" y=\"101.260866\"/>\n      </g>\n     </g>\n     <g id=\"text_12\">\n      <!-- 0.54 -->\n      <defs>\n       <path d=\"M 37.796875 64.3125 \nL 12.890625 25.390625 \nL 37.796875 25.390625 \nz\nM 35.203125 72.90625 \nL 47.609375 72.90625 \nL 47.609375 25.390625 \nL 58.015625 25.390625 \nL 58.015625 17.1875 \nL 47.609375 17.1875 \nL 47.609375 0 \nL 37.796875 0 \nL 37.796875 17.1875 \nL 4.890625 17.1875 \nL 4.890625 26.703125 \nz\n\" id=\"DejaVuSans-52\"/>\n      </defs>\n      <g transform=\"translate(20.878125 105.060085)scale(0.1 -0.1)\">\n       <use xlink:href=\"#DejaVuSans-48\"/>\n       <use x=\"63.623047\" xlink:href=\"#DejaVuSans-46\"/>\n       <use x=\"95.410156\" xlink:href=\"#DejaVuSans-53\"/>\n       <use x=\"159.033203\" xlink:href=\"#DejaVuSans-52\"/>\n      </g>\n     </g>\n    </g>\n    <g id=\"ytick_6\">\n     <g id=\"line2d_12\">\n      <g>\n       <use style=\"stroke:#000000;stroke-width:0.8;\" x=\"50.14375\" xlink:href=\"#mdda085ad59\" y=\"72.600232\"/>\n      </g>\n     </g>\n     <g id=\"text_13\">\n      <!-- 0.55 -->\n      <g transform=\"translate(20.878125 76.399451)scale(0.1 -0.1)\">\n       <use xlink:href=\"#DejaVuSans-48\"/>\n       <use x=\"63.623047\" xlink:href=\"#DejaVuSans-46\"/>\n       <use x=\"95.410156\" xlink:href=\"#DejaVuSans-53\"/>\n       <use x=\"159.033203\" xlink:href=\"#DejaVuSans-53\"/>\n      </g>\n     </g>\n    </g>\n    <g id=\"ytick_7\">\n     <g id=\"line2d_13\">\n      <g>\n       <use style=\"stroke:#000000;stroke-width:0.8;\" x=\"50.14375\" xlink:href=\"#mdda085ad59\" y=\"43.939598\"/>\n      </g>\n     </g>\n     <g id=\"text_14\">\n      <!-- 0.56 -->\n      <defs>\n       <path d=\"M 33.015625 40.375 \nQ 26.375 40.375 22.484375 35.828125 \nQ 18.609375 31.296875 18.609375 23.390625 \nQ 18.609375 15.53125 22.484375 10.953125 \nQ 26.375 6.390625 33.015625 6.390625 \nQ 39.65625 6.390625 43.53125 10.953125 \nQ 47.40625 15.53125 47.40625 23.390625 \nQ 47.40625 31.296875 43.53125 35.828125 \nQ 39.65625 40.375 33.015625 40.375 \nz\nM 52.59375 71.296875 \nL 52.59375 62.3125 \nQ 48.875 64.0625 45.09375 64.984375 \nQ 41.3125 65.921875 37.59375 65.921875 \nQ 27.828125 65.921875 22.671875 59.328125 \nQ 17.53125 52.734375 16.796875 39.40625 \nQ 19.671875 43.65625 24.015625 45.921875 \nQ 28.375 48.1875 33.59375 48.1875 \nQ 44.578125 48.1875 50.953125 41.515625 \nQ 57.328125 34.859375 57.328125 23.390625 \nQ 57.328125 12.15625 50.6875 5.359375 \nQ 44.046875 -1.421875 33.015625 -1.421875 \nQ 20.359375 -1.421875 13.671875 8.265625 \nQ 6.984375 17.96875 6.984375 36.375 \nQ 6.984375 53.65625 15.1875 63.9375 \nQ 23.390625 74.21875 37.203125 74.21875 \nQ 40.921875 74.21875 44.703125 73.484375 \nQ 48.484375 72.75 52.59375 71.296875 \nz\n\" id=\"DejaVuSans-54\"/>\n      </defs>\n      <g transform=\"translate(20.878125 47.738817)scale(0.1 -0.1)\">\n       <use xlink:href=\"#DejaVuSans-48\"/>\n       <use x=\"63.623047\" xlink:href=\"#DejaVuSans-46\"/>\n       <use x=\"95.410156\" xlink:href=\"#DejaVuSans-53\"/>\n       <use x=\"159.033203\" xlink:href=\"#DejaVuSans-54\"/>\n      </g>\n     </g>\n    </g>\n    <g id=\"ytick_8\">\n     <g id=\"line2d_14\">\n      <g>\n       <use style=\"stroke:#000000;stroke-width:0.8;\" x=\"50.14375\" xlink:href=\"#mdda085ad59\" y=\"15.278965\"/>\n      </g>\n     </g>\n     <g id=\"text_15\">\n      <!-- 0.57 -->\n      <defs>\n       <path d=\"M 8.203125 72.90625 \nL 55.078125 72.90625 \nL 55.078125 68.703125 \nL 28.609375 0 \nL 18.3125 0 \nL 43.21875 64.59375 \nL 8.203125 64.59375 \nz\n\" id=\"DejaVuSans-55\"/>\n      </defs>\n      <g transform=\"translate(20.878125 19.078183)scale(0.1 -0.1)\">\n       <use xlink:href=\"#DejaVuSans-48\"/>\n       <use x=\"63.623047\" xlink:href=\"#DejaVuSans-46\"/>\n       <use x=\"95.410156\" xlink:href=\"#DejaVuSans-53\"/>\n       <use x=\"159.033203\" xlink:href=\"#DejaVuSans-55\"/>\n      </g>\n     </g>\n    </g>\n    <g id=\"text_16\">\n     <!-- Testing Accuracy -->\n     <defs>\n      <path d=\"M -0.296875 72.90625 \nL 61.375 72.90625 \nL 61.375 64.59375 \nL 35.5 64.59375 \nL 35.5 0 \nL 25.59375 0 \nL 25.59375 64.59375 \nL -0.296875 64.59375 \nz\n\" id=\"DejaVuSans-84\"/>\n      <path d=\"M 44.28125 53.078125 \nL 44.28125 44.578125 \nQ 40.484375 46.53125 36.375 47.5 \nQ 32.28125 48.484375 27.875 48.484375 \nQ 21.1875 48.484375 17.84375 46.4375 \nQ 14.5 44.390625 14.5 40.28125 \nQ 14.5 37.15625 16.890625 35.375 \nQ 19.28125 33.59375 26.515625 31.984375 \nL 29.59375 31.296875 \nQ 39.15625 29.25 43.1875 25.515625 \nQ 47.21875 21.78125 47.21875 15.09375 \nQ 47.21875 7.46875 41.1875 3.015625 \nQ 35.15625 -1.421875 24.609375 -1.421875 \nQ 20.21875 -1.421875 15.453125 -0.5625 \nQ 10.6875 0.296875 5.421875 2 \nL 5.421875 11.28125 \nQ 10.40625 8.6875 15.234375 7.390625 \nQ 20.0625 6.109375 24.8125 6.109375 \nQ 31.15625 6.109375 34.5625 8.28125 \nQ 37.984375 10.453125 37.984375 14.40625 \nQ 37.984375 18.0625 35.515625 20.015625 \nQ 33.0625 21.96875 24.703125 23.78125 \nL 21.578125 24.515625 \nQ 13.234375 26.265625 9.515625 29.90625 \nQ 5.8125 33.546875 5.8125 39.890625 \nQ 5.8125 47.609375 11.28125 51.796875 \nQ 16.75 56 26.8125 56 \nQ 31.78125 56 36.171875 55.265625 \nQ 40.578125 54.546875 44.28125 53.078125 \nz\n\" id=\"DejaVuSans-115\"/>\n      <path d=\"M 18.3125 70.21875 \nL 18.3125 54.6875 \nL 36.8125 54.6875 \nL 36.8125 47.703125 \nL 18.3125 47.703125 \nL 18.3125 18.015625 \nQ 18.3125 11.328125 20.140625 9.421875 \nQ 21.96875 7.515625 27.59375 7.515625 \nL 36.8125 7.515625 \nL 36.8125 0 \nL 27.59375 0 \nQ 17.1875 0 13.234375 3.875 \nQ 9.28125 7.765625 9.28125 18.015625 \nL 9.28125 47.703125 \nL 2.6875 47.703125 \nL 2.6875 54.6875 \nL 9.28125 54.6875 \nL 9.28125 70.21875 \nz\n\" id=\"DejaVuSans-116\"/>\n      <path d=\"M 9.421875 54.6875 \nL 18.40625 54.6875 \nL 18.40625 0 \nL 9.421875 0 \nz\nM 9.421875 75.984375 \nL 18.40625 75.984375 \nL 18.40625 64.59375 \nL 9.421875 64.59375 \nz\n\" id=\"DejaVuSans-105\"/>\n      <path d=\"M 54.890625 33.015625 \nL 54.890625 0 \nL 45.90625 0 \nL 45.90625 32.71875 \nQ 45.90625 40.484375 42.875 44.328125 \nQ 39.84375 48.1875 33.796875 48.1875 \nQ 26.515625 48.1875 22.3125 43.546875 \nQ 18.109375 38.921875 18.109375 30.90625 \nL 18.109375 0 \nL 9.078125 0 \nL 9.078125 54.6875 \nL 18.109375 54.6875 \nL 18.109375 46.1875 \nQ 21.34375 51.125 25.703125 53.5625 \nQ 30.078125 56 35.796875 56 \nQ 45.21875 56 50.046875 50.171875 \nQ 54.890625 44.34375 54.890625 33.015625 \nz\n\" id=\"DejaVuSans-110\"/>\n      <path d=\"M 45.40625 27.984375 \nQ 45.40625 37.75 41.375 43.109375 \nQ 37.359375 48.484375 30.078125 48.484375 \nQ 22.859375 48.484375 18.828125 43.109375 \nQ 14.796875 37.75 14.796875 27.984375 \nQ 14.796875 18.265625 18.828125 12.890625 \nQ 22.859375 7.515625 30.078125 7.515625 \nQ 37.359375 7.515625 41.375 12.890625 \nQ 45.40625 18.265625 45.40625 27.984375 \nz\nM 54.390625 6.78125 \nQ 54.390625 -7.171875 48.1875 -13.984375 \nQ 42 -20.796875 29.203125 -20.796875 \nQ 24.46875 -20.796875 20.265625 -20.09375 \nQ 16.0625 -19.390625 12.109375 -17.921875 \nL 12.109375 -9.1875 \nQ 16.0625 -11.328125 19.921875 -12.34375 \nQ 23.78125 -13.375 27.78125 -13.375 \nQ 36.625 -13.375 41.015625 -8.765625 \nQ 45.40625 -4.15625 45.40625 5.171875 \nL 45.40625 9.625 \nQ 42.625 4.78125 38.28125 2.390625 \nQ 33.9375 0 27.875 0 \nQ 17.828125 0 11.671875 7.65625 \nQ 5.515625 15.328125 5.515625 27.984375 \nQ 5.515625 40.671875 11.671875 48.328125 \nQ 17.828125 56 27.875 56 \nQ 33.9375 56 38.28125 53.609375 \nQ 42.625 51.21875 45.40625 46.390625 \nL 45.40625 54.6875 \nL 54.390625 54.6875 \nz\n\" id=\"DejaVuSans-103\"/>\n      <path d=\"M 34.1875 63.1875 \nL 20.796875 26.90625 \nL 47.609375 26.90625 \nz\nM 28.609375 72.90625 \nL 39.796875 72.90625 \nL 67.578125 0 \nL 57.328125 0 \nL 50.6875 18.703125 \nL 17.828125 18.703125 \nL 11.1875 0 \nL 0.78125 0 \nz\n\" id=\"DejaVuSans-65\"/>\n      <path d=\"M 48.78125 52.59375 \nL 48.78125 44.1875 \nQ 44.96875 46.296875 41.140625 47.34375 \nQ 37.3125 48.390625 33.40625 48.390625 \nQ 24.65625 48.390625 19.8125 42.84375 \nQ 14.984375 37.3125 14.984375 27.296875 \nQ 14.984375 17.28125 19.8125 11.734375 \nQ 24.65625 6.203125 33.40625 6.203125 \nQ 37.3125 6.203125 41.140625 7.25 \nQ 44.96875 8.296875 48.78125 10.40625 \nL 48.78125 2.09375 \nQ 45.015625 0.34375 40.984375 -0.53125 \nQ 36.96875 -1.421875 32.421875 -1.421875 \nQ 20.0625 -1.421875 12.78125 6.34375 \nQ 5.515625 14.109375 5.515625 27.296875 \nQ 5.515625 40.671875 12.859375 48.328125 \nQ 20.21875 56 33.015625 56 \nQ 37.15625 56 41.109375 55.140625 \nQ 45.0625 54.296875 48.78125 52.59375 \nz\n\" id=\"DejaVuSans-99\"/>\n      <path d=\"M 32.171875 -5.078125 \nQ 28.375 -14.84375 24.75 -17.8125 \nQ 21.140625 -20.796875 15.09375 -20.796875 \nL 7.90625 -20.796875 \nL 7.90625 -13.28125 \nL 13.1875 -13.28125 \nQ 16.890625 -13.28125 18.9375 -11.515625 \nQ 21 -9.765625 23.484375 -3.21875 \nL 25.09375 0.875 \nL 2.984375 54.6875 \nL 12.5 54.6875 \nL 29.59375 11.921875 \nL 46.6875 54.6875 \nL 56.203125 54.6875 \nz\n\" id=\"DejaVuSans-121\"/>\n     </defs>\n     <g transform=\"translate(14.798438 158.837969)rotate(-90)scale(0.1 -0.1)\">\n      <use xlink:href=\"#DejaVuSans-84\"/>\n      <use x=\"60.818359\" xlink:href=\"#DejaVuSans-101\"/>\n      <use x=\"122.341797\" xlink:href=\"#DejaVuSans-115\"/>\n      <use x=\"174.441406\" xlink:href=\"#DejaVuSans-116\"/>\n      <use x=\"213.650391\" xlink:href=\"#DejaVuSans-105\"/>\n      <use x=\"241.433594\" xlink:href=\"#DejaVuSans-110\"/>\n      <use x=\"304.8125\" xlink:href=\"#DejaVuSans-103\"/>\n      <use x=\"368.289062\" xlink:href=\"#DejaVuSans-32\"/>\n      <use x=\"400.076172\" xlink:href=\"#DejaVuSans-65\"/>\n      <use x=\"468.46875\" xlink:href=\"#DejaVuSans-99\"/>\n      <use x=\"523.449219\" xlink:href=\"#DejaVuSans-99\"/>\n      <use x=\"578.429688\" xlink:href=\"#DejaVuSans-117\"/>\n      <use x=\"641.808594\" xlink:href=\"#DejaVuSans-114\"/>\n      <use x=\"682.921875\" xlink:href=\"#DejaVuSans-97\"/>\n      <use x=\"744.201172\" xlink:href=\"#DejaVuSans-99\"/>\n      <use x=\"799.181641\" xlink:href=\"#DejaVuSans-121\"/>\n     </g>\n    </g>\n   </g>\n   <g id=\"line2d_15\">\n    <path clip-path=\"url(#pe5e1e7e0a5)\" d=\"M 65.361932 144.7871 \nL 78.04375 214.756364 \nL 90.725568 137.904878 \nL 103.407386 109.22895 \nL 116.089205 89.346974 \nL 128.771023 88.582282 \nL 141.452841 74.053146 \nL 154.134659 67.553269 \nL 166.816477 60.671046 \nL 179.498295 40.406724 \nL 192.180114 48.435984 \nL 204.861932 47.288947 \nL 217.54375 42.318453 \nL 230.225568 31.230427 \nL 242.907386 32.75981 \nL 255.589205 33.524501 \nL 268.271023 25.495242 \nL 280.952841 17.083636 \nL 293.634659 25.112896 \nL 306.316477 27.024625 \nL 318.998295 20.907093 \nL 331.680114 19.377711 \nL 344.361932 25.112896 \nL 357.04375 25.112896 \nL 369.725568 22.436476 \n\" style=\"fill:none;stroke:#1f77b4;stroke-linecap:square;stroke-width:1.5;\"/>\n   </g>\n   <g id=\"patch_3\">\n    <path d=\"M 50.14375 224.64 \nL 50.14375 7.2 \n\" style=\"fill:none;stroke:#000000;stroke-linecap:square;stroke-linejoin:miter;stroke-width:0.8;\"/>\n   </g>\n   <g id=\"patch_4\">\n    <path d=\"M 384.94375 224.64 \nL 384.94375 7.2 \n\" style=\"fill:none;stroke:#000000;stroke-linecap:square;stroke-linejoin:miter;stroke-width:0.8;\"/>\n   </g>\n   <g id=\"patch_5\">\n    <path d=\"M 50.14375 224.64 \nL 384.94375 224.64 \n\" style=\"fill:none;stroke:#000000;stroke-linecap:square;stroke-linejoin:miter;stroke-width:0.8;\"/>\n   </g>\n   <g id=\"patch_6\">\n    <path d=\"M 50.14375 7.2 \nL 384.94375 7.2 \n\" style=\"fill:none;stroke:#000000;stroke-linecap:square;stroke-linejoin:miter;stroke-width:0.8;\"/>\n   </g>\n  </g>\n </g>\n <defs>\n  <clipPath id=\"pe5e1e7e0a5\">\n   <rect height=\"217.44\" width=\"334.8\" x=\"50.14375\" y=\"7.2\"/>\n  </clipPath>\n </defs>\n</svg>\n",
      "image/png": "[encoded data removed]"
     },
     "metadata": {
      "needs_background": "light"
     }
    }
   ],
   "source": [
    "#plot the relationship between K and the testing accuracy\n",
    "plt.plot(k_range,scores_list)\n",
    "plt.xlabel('Value of K for KNN')\n",
    "plt.ylabel('Testing Accuracy')"
   ]
  },
  {
   "source": [
    "### Feature Scaling - Normailization"
   ],
   "cell_type": "markdown",
   "metadata": {}
  },
  {
   "cell_type": "code",
   "execution_count": 28,
   "metadata": {},
   "outputs": [],
   "source": [
    "X = numdf_i.drop(columns='genre')\n",
    "y = numdf_i['genre']"
   ]
  },
  {
   "cell_type": "code",
   "execution_count": 29,
   "metadata": {},
   "outputs": [
    {
     "output_type": "stream",
     "name": "stdout",
     "text": [
      "Rescaled data:\n[[6.673e-06 6.536e-06 1.606e-05 ... 1.261e-03 1.000e+00 3.212e-05]\n [3.204e-06 2.197e-06 3.565e-05 ... 5.128e-04 1.000e+00 1.782e-05]\n [8.601e-06 9.037e-06 5.060e-05 ... 2.207e-03 1.000e+00 4.048e-05]\n ...\n [1.537e-06 3.496e-06 3.407e-05 ... 6.598e-04 1.000e+00 1.703e-05]\n [1.476e-06 2.850e-06 1.856e-05 ... 4.642e-04 1.000e+00 1.238e-05]\n [3.262e-06 5.828e-06 5.550e-05 ... 9.561e-04 1.000e+00 2.467e-05]]\n"
     ]
    }
   ],
   "source": [
    "# Normalize data (length of 1)\n",
    "from sklearn.preprocessing import Normalizer\n",
    "scaler = Normalizer()\n",
    "normalizedX = scaler.fit_transform(X)\n",
    "# summarize transformed data\n",
    "numpy.set_printoptions(precision=3)\n",
    "print(\"Rescaled data:\")\n",
    "print(normalizedX)"
   ]
  },
  {
   "source": [
    "#### Train the Model "
   ],
   "cell_type": "markdown",
   "metadata": {}
  },
  {
   "cell_type": "code",
   "execution_count": 31,
   "metadata": {},
   "outputs": [],
   "source": [
    "# splitting the data into training and test sets (80:20)\n",
    "#from sklearn.cross_validation import train_test_split\n",
    "from sklearn.model_selection import train_test_split\n",
    "X_train,X_test,y_train,y_test = train_test_split(normalizedX,y,test_size=0.2,random_state=44)"
   ]
  },
  {
   "cell_type": "code",
   "execution_count": 32,
   "metadata": {},
   "outputs": [
    {
     "output_type": "execute_result",
     "data": {
      "text/plain": [
       "{1: 0.41115261472785486,\n",
       " 2: 0.3544557097118463,\n",
       " 3: 0.3720651013874066,\n",
       " 4: 0.3799359658484525,\n",
       " 5: 0.37913553895410884,\n",
       " 6: 0.3783351120597652,\n",
       " 7: 0.3783351120597652,\n",
       " 8: 0.37566702241195304,\n",
       " 9: 0.3784685165421558,\n",
       " 10: 0.3812700106723586,\n",
       " 11: 0.38233724653148343,\n",
       " 12: 0.3866061899679829,\n",
       " 13: 0.384204909284952,\n",
       " 14: 0.3844717182497332,\n",
       " 15: 0.37940234791889005,\n",
       " 16: 0.3828708644610459,\n",
       " 17: 0.3831376734258271,\n",
       " 18: 0.384204909284952,\n",
       " 19: 0.38073639274279614,\n",
       " 20: 0.384204909284952,\n",
       " 21: 0.3860725720384205,\n",
       " 22: 0.38167022411953044,\n",
       " 23: 0.381803628601921,\n",
       " 24: 0.38167022411953044,\n",
       " 25: 0.3783351120597652}"
      ]
     },
     "metadata": {},
     "execution_count": 32
    }
   ],
   "source": [
    "#import the KNeighborsClassifier class from sklearn\n",
    "from sklearn.neighbors import KNeighborsClassifier\n",
    "\n",
    "#import metrics model to check the accuracy \n",
    "from sklearn import metrics\n",
    "\n",
    "#Try running from k=1 through 25 and record testing accuracy\n",
    "k_range = range(1,26)  # setting the k from 1-25\n",
    "scores = {}     # record the accuracy\n",
    "scores_list = []\n",
    "for k in k_range:\n",
    "        knn = KNeighborsClassifier(n_neighbors=k)\n",
    "        knn.fit(X_train,y_train)\n",
    "        y_pred=knn.predict(X_test)\n",
    "        scores[k] = metrics.accuracy_score(y_test,y_pred)\n",
    "        scores_list.append(metrics.accuracy_score(y_test,y_pred))\n",
    "\n",
    "scores"
   ]
  },
  {
   "cell_type": "code",
   "execution_count": 33,
   "metadata": {},
   "outputs": [
    {
     "output_type": "execute_result",
     "data": {
      "text/plain": [
       "Text(0, 0.5, 'Testing Accuracy')"
      ]
     },
     "metadata": {},
     "execution_count": 33
    },
    {
     "output_type": "display_data",
     "data": {
      "text/plain": "<Figure size 432x288 with 1 Axes>",
      "image/svg+xml": "<?xml version=\"1.0\" encoding=\"utf-8\" standalone=\"no\"?>\n<!DOCTYPE svg PUBLIC \"-//W3C//DTD SVG 1.1//EN\"\n  \"http://www.w3.org/Graphics/SVG/1.1/DTD/svg11.dtd\">\n<!-- Created with matplotlib (https://matplotlib.org/) -->\n<svg height=\"262.19625pt\" version=\"1.1\" viewBox=\"0 0 392.14375 262.19625\" width=\"392.14375pt\" xmlns=\"http://www.w3.org/2000/svg\" xmlns:xlink=\"http://www.w3.org/1999/xlink\">\n <defs>\n  <style type=\"text/css\">\n*{stroke-linecap:butt;stroke-linejoin:round;}\n  </style>\n </defs>\n <g id=\"figure_1\">\n  <g id=\"patch_1\">\n   <path d=\"M 0 262.19625 \nL 392.14375 262.19625 \nL 392.14375 0 \nL 0 0 \nz\n\" style=\"fill:none;\"/>\n  </g>\n  <g id=\"axes_1\">\n   <g id=\"patch_2\">\n    <path d=\"M 50.14375 224.64 \nL 384.94375 224.64 \nL 384.94375 7.2 \nL 50.14375 7.2 \nz\n\" style=\"fill:#ffffff;\"/>\n   </g>\n   <g id=\"matplotlib.axis_1\">\n    <g id=\"xtick_1\">\n     <g id=\"line2d_1\">\n      <defs>\n       <path d=\"M 0 0 \nL 0 3.5 \n\" id=\"m8983d049b6\" style=\"stroke:#000000;stroke-width:0.8;\"/>\n      </defs>\n      <g>\n       <use style=\"stroke:#000000;stroke-width:0.8;\" x=\"52.680114\" xlink:href=\"#m8983d049b6\" y=\"224.64\"/>\n      </g>\n     </g>\n     <g id=\"text_1\">\n      <!-- 0 -->\n      <defs>\n       <path d=\"M 31.78125 66.40625 \nQ 24.171875 66.40625 20.328125 58.90625 \nQ 16.5 51.421875 16.5 36.375 \nQ 16.5 21.390625 20.328125 13.890625 \nQ 24.171875 6.390625 31.78125 6.390625 \nQ 39.453125 6.390625 43.28125 13.890625 \nQ 47.125 21.390625 47.125 36.375 \nQ 47.125 51.421875 43.28125 58.90625 \nQ 39.453125 66.40625 31.78125 66.40625 \nz\nM 31.78125 74.21875 \nQ 44.046875 74.21875 50.515625 64.515625 \nQ 56.984375 54.828125 56.984375 36.375 \nQ 56.984375 17.96875 50.515625 8.265625 \nQ 44.046875 -1.421875 31.78125 -1.421875 \nQ 19.53125 -1.421875 13.0625 8.265625 \nQ 6.59375 17.96875 6.59375 36.375 \nQ 6.59375 54.828125 13.0625 64.515625 \nQ 19.53125 74.21875 31.78125 74.21875 \nz\n\" id=\"DejaVuSans-48\"/>\n      </defs>\n      <g transform=\"translate(49.498864 239.238437)scale(0.1 -0.1)\">\n       <use xlink:href=\"#DejaVuSans-48\"/>\n      </g>\n     </g>\n    </g>\n    <g id=\"xtick_2\">\n     <g id=\"line2d_2\">\n      <g>\n       <use style=\"stroke:#000000;stroke-width:0.8;\" x=\"116.089205\" xlink:href=\"#m8983d049b6\" y=\"224.64\"/>\n      </g>\n     </g>\n     <g id=\"text_2\">\n      <!-- 5 -->\n      <defs>\n       <path d=\"M 10.796875 72.90625 \nL 49.515625 72.90625 \nL 49.515625 64.59375 \nL 19.828125 64.59375 \nL 19.828125 46.734375 \nQ 21.96875 47.46875 24.109375 47.828125 \nQ 26.265625 48.1875 28.421875 48.1875 \nQ 40.625 48.1875 47.75 41.5 \nQ 54.890625 34.8125 54.890625 23.390625 \nQ 54.890625 11.625 47.5625 5.09375 \nQ 40.234375 -1.421875 26.90625 -1.421875 \nQ 22.3125 -1.421875 17.546875 -0.640625 \nQ 12.796875 0.140625 7.71875 1.703125 \nL 7.71875 11.625 \nQ 12.109375 9.234375 16.796875 8.0625 \nQ 21.484375 6.890625 26.703125 6.890625 \nQ 35.15625 6.890625 40.078125 11.328125 \nQ 45.015625 15.765625 45.015625 23.390625 \nQ 45.015625 31 40.078125 35.4375 \nQ 35.15625 39.890625 26.703125 39.890625 \nQ 22.75 39.890625 18.8125 39.015625 \nQ 14.890625 38.140625 10.796875 36.28125 \nz\n\" id=\"DejaVuSans-53\"/>\n      </defs>\n      <g transform=\"translate(112.907955 239.238437)scale(0.1 -0.1)\">\n       <use xlink:href=\"#DejaVuSans-53\"/>\n      </g>\n     </g>\n    </g>\n    <g id=\"xtick_3\">\n     <g id=\"line2d_3\">\n      <g>\n       <use style=\"stroke:#000000;stroke-width:0.8;\" x=\"179.498295\" xlink:href=\"#m8983d049b6\" y=\"224.64\"/>\n      </g>\n     </g>\n     <g id=\"text_3\">\n      <!-- 10 -->\n      <defs>\n       <path d=\"M 12.40625 8.296875 \nL 28.515625 8.296875 \nL 28.515625 63.921875 \nL 10.984375 60.40625 \nL 10.984375 69.390625 \nL 28.421875 72.90625 \nL 38.28125 72.90625 \nL 38.28125 8.296875 \nL 54.390625 8.296875 \nL 54.390625 0 \nL 12.40625 0 \nz\n\" id=\"DejaVuSans-49\"/>\n      </defs>\n      <g transform=\"translate(173.135795 239.238437)scale(0.1 -0.1)\">\n       <use xlink:href=\"#DejaVuSans-49\"/>\n       <use x=\"63.623047\" xlink:href=\"#DejaVuSans-48\"/>\n      </g>\n     </g>\n    </g>\n    <g id=\"xtick_4\">\n     <g id=\"line2d_4\">\n      <g>\n       <use style=\"stroke:#000000;stroke-width:0.8;\" x=\"242.907386\" xlink:href=\"#m8983d049b6\" y=\"224.64\"/>\n      </g>\n     </g>\n     <g id=\"text_4\">\n      <!-- 15 -->\n      <g transform=\"translate(236.544886 239.238437)scale(0.1 -0.1)\">\n       <use xlink:href=\"#DejaVuSans-49\"/>\n       <use x=\"63.623047\" xlink:href=\"#DejaVuSans-53\"/>\n      </g>\n     </g>\n    </g>\n    <g id=\"xtick_5\">\n     <g id=\"line2d_5\">\n      <g>\n       <use style=\"stroke:#000000;stroke-width:0.8;\" x=\"306.316477\" xlink:href=\"#m8983d049b6\" y=\"224.64\"/>\n      </g>\n     </g>\n     <g id=\"text_5\">\n      <!-- 20 -->\n      <defs>\n       <path d=\"M 19.1875 8.296875 \nL 53.609375 8.296875 \nL 53.609375 0 \nL 7.328125 0 \nL 7.328125 8.296875 \nQ 12.9375 14.109375 22.625 23.890625 \nQ 32.328125 33.6875 34.8125 36.53125 \nQ 39.546875 41.84375 41.421875 45.53125 \nQ 43.3125 49.21875 43.3125 52.78125 \nQ 43.3125 58.59375 39.234375 62.25 \nQ 35.15625 65.921875 28.609375 65.921875 \nQ 23.96875 65.921875 18.8125 64.3125 \nQ 13.671875 62.703125 7.8125 59.421875 \nL 7.8125 69.390625 \nQ 13.765625 71.78125 18.9375 73 \nQ 24.125 74.21875 28.421875 74.21875 \nQ 39.75 74.21875 46.484375 68.546875 \nQ 53.21875 62.890625 53.21875 53.421875 \nQ 53.21875 48.921875 51.53125 44.890625 \nQ 49.859375 40.875 45.40625 35.40625 \nQ 44.1875 33.984375 37.640625 27.21875 \nQ 31.109375 20.453125 19.1875 8.296875 \nz\n\" id=\"DejaVuSans-50\"/>\n      </defs>\n      <g transform=\"translate(299.953977 239.238437)scale(0.1 -0.1)\">\n       <use xlink:href=\"#DejaVuSans-50\"/>\n       <use x=\"63.623047\" xlink:href=\"#DejaVuSans-48\"/>\n      </g>\n     </g>\n    </g>\n    <g id=\"xtick_6\">\n     <g id=\"line2d_6\">\n      <g>\n       <use style=\"stroke:#000000;stroke-width:0.8;\" x=\"369.725568\" xlink:href=\"#m8983d049b6\" y=\"224.64\"/>\n      </g>\n     </g>\n     <g id=\"text_6\">\n      <!-- 25 -->\n      <g transform=\"translate(363.363068 239.238437)scale(0.1 -0.1)\">\n       <use xlink:href=\"#DejaVuSans-50\"/>\n       <use x=\"63.623047\" xlink:href=\"#DejaVuSans-53\"/>\n      </g>\n     </g>\n    </g>\n    <g id=\"text_7\">\n     <!-- Value of K for KNN -->\n     <defs>\n      <path d=\"M 28.609375 0 \nL 0.78125 72.90625 \nL 11.078125 72.90625 \nL 34.1875 11.53125 \nL 57.328125 72.90625 \nL 67.578125 72.90625 \nL 39.796875 0 \nz\n\" id=\"DejaVuSans-86\"/>\n      <path d=\"M 34.28125 27.484375 \nQ 23.390625 27.484375 19.1875 25 \nQ 14.984375 22.515625 14.984375 16.5 \nQ 14.984375 11.71875 18.140625 8.90625 \nQ 21.296875 6.109375 26.703125 6.109375 \nQ 34.1875 6.109375 38.703125 11.40625 \nQ 43.21875 16.703125 43.21875 25.484375 \nL 43.21875 27.484375 \nz\nM 52.203125 31.203125 \nL 52.203125 0 \nL 43.21875 0 \nL 43.21875 8.296875 \nQ 40.140625 3.328125 35.546875 0.953125 \nQ 30.953125 -1.421875 24.3125 -1.421875 \nQ 15.921875 -1.421875 10.953125 3.296875 \nQ 6 8.015625 6 15.921875 \nQ 6 25.140625 12.171875 29.828125 \nQ 18.359375 34.515625 30.609375 34.515625 \nL 43.21875 34.515625 \nL 43.21875 35.40625 \nQ 43.21875 41.609375 39.140625 45 \nQ 35.0625 48.390625 27.6875 48.390625 \nQ 23 48.390625 18.546875 47.265625 \nQ 14.109375 46.140625 10.015625 43.890625 \nL 10.015625 52.203125 \nQ 14.9375 54.109375 19.578125 55.046875 \nQ 24.21875 56 28.609375 56 \nQ 40.484375 56 46.34375 49.84375 \nQ 52.203125 43.703125 52.203125 31.203125 \nz\n\" id=\"DejaVuSans-97\"/>\n      <path d=\"M 9.421875 75.984375 \nL 18.40625 75.984375 \nL 18.40625 0 \nL 9.421875 0 \nz\n\" id=\"DejaVuSans-108\"/>\n      <path d=\"M 8.5 21.578125 \nL 8.5 54.6875 \nL 17.484375 54.6875 \nL 17.484375 21.921875 \nQ 17.484375 14.15625 20.5 10.265625 \nQ 23.53125 6.390625 29.59375 6.390625 \nQ 36.859375 6.390625 41.078125 11.03125 \nQ 45.3125 15.671875 45.3125 23.6875 \nL 45.3125 54.6875 \nL 54.296875 54.6875 \nL 54.296875 0 \nL 45.3125 0 \nL 45.3125 8.40625 \nQ 42.046875 3.421875 37.71875 1 \nQ 33.40625 -1.421875 27.6875 -1.421875 \nQ 18.265625 -1.421875 13.375 4.4375 \nQ 8.5 10.296875 8.5 21.578125 \nz\nM 31.109375 56 \nz\n\" id=\"DejaVuSans-117\"/>\n      <path d=\"M 56.203125 29.59375 \nL 56.203125 25.203125 \nL 14.890625 25.203125 \nQ 15.484375 15.921875 20.484375 11.0625 \nQ 25.484375 6.203125 34.421875 6.203125 \nQ 39.59375 6.203125 44.453125 7.46875 \nQ 49.3125 8.734375 54.109375 11.28125 \nL 54.109375 2.78125 \nQ 49.265625 0.734375 44.1875 -0.34375 \nQ 39.109375 -1.421875 33.890625 -1.421875 \nQ 20.796875 -1.421875 13.15625 6.1875 \nQ 5.515625 13.8125 5.515625 26.8125 \nQ 5.515625 40.234375 12.765625 48.109375 \nQ 20.015625 56 32.328125 56 \nQ 43.359375 56 49.78125 48.890625 \nQ 56.203125 41.796875 56.203125 29.59375 \nz\nM 47.21875 32.234375 \nQ 47.125 39.59375 43.09375 43.984375 \nQ 39.0625 48.390625 32.421875 48.390625 \nQ 24.90625 48.390625 20.390625 44.140625 \nQ 15.875 39.890625 15.1875 32.171875 \nz\n\" id=\"DejaVuSans-101\"/>\n      <path id=\"DejaVuSans-32\"/>\n      <path d=\"M 30.609375 48.390625 \nQ 23.390625 48.390625 19.1875 42.75 \nQ 14.984375 37.109375 14.984375 27.296875 \nQ 14.984375 17.484375 19.15625 11.84375 \nQ 23.34375 6.203125 30.609375 6.203125 \nQ 37.796875 6.203125 41.984375 11.859375 \nQ 46.1875 17.53125 46.1875 27.296875 \nQ 46.1875 37.015625 41.984375 42.703125 \nQ 37.796875 48.390625 30.609375 48.390625 \nz\nM 30.609375 56 \nQ 42.328125 56 49.015625 48.375 \nQ 55.71875 40.765625 55.71875 27.296875 \nQ 55.71875 13.875 49.015625 6.21875 \nQ 42.328125 -1.421875 30.609375 -1.421875 \nQ 18.84375 -1.421875 12.171875 6.21875 \nQ 5.515625 13.875 5.515625 27.296875 \nQ 5.515625 40.765625 12.171875 48.375 \nQ 18.84375 56 30.609375 56 \nz\n\" id=\"DejaVuSans-111\"/>\n      <path d=\"M 37.109375 75.984375 \nL 37.109375 68.5 \nL 28.515625 68.5 \nQ 23.6875 68.5 21.796875 66.546875 \nQ 19.921875 64.59375 19.921875 59.515625 \nL 19.921875 54.6875 \nL 34.71875 54.6875 \nL 34.71875 47.703125 \nL 19.921875 47.703125 \nL 19.921875 0 \nL 10.890625 0 \nL 10.890625 47.703125 \nL 2.296875 47.703125 \nL 2.296875 54.6875 \nL 10.890625 54.6875 \nL 10.890625 58.5 \nQ 10.890625 67.625 15.140625 71.796875 \nQ 19.390625 75.984375 28.609375 75.984375 \nz\n\" id=\"DejaVuSans-102\"/>\n      <path d=\"M 9.8125 72.90625 \nL 19.671875 72.90625 \nL 19.671875 42.09375 \nL 52.390625 72.90625 \nL 65.09375 72.90625 \nL 28.90625 38.921875 \nL 67.671875 0 \nL 54.6875 0 \nL 19.671875 35.109375 \nL 19.671875 0 \nL 9.8125 0 \nz\n\" id=\"DejaVuSans-75\"/>\n      <path d=\"M 41.109375 46.296875 \nQ 39.59375 47.171875 37.8125 47.578125 \nQ 36.03125 48 33.890625 48 \nQ 26.265625 48 22.1875 43.046875 \nQ 18.109375 38.09375 18.109375 28.8125 \nL 18.109375 0 \nL 9.078125 0 \nL 9.078125 54.6875 \nL 18.109375 54.6875 \nL 18.109375 46.1875 \nQ 20.953125 51.171875 25.484375 53.578125 \nQ 30.03125 56 36.53125 56 \nQ 37.453125 56 38.578125 55.875 \nQ 39.703125 55.765625 41.0625 55.515625 \nz\n\" id=\"DejaVuSans-114\"/>\n      <path d=\"M 9.8125 72.90625 \nL 23.09375 72.90625 \nL 55.421875 11.921875 \nL 55.421875 72.90625 \nL 64.984375 72.90625 \nL 64.984375 0 \nL 51.703125 0 \nL 19.390625 60.984375 \nL 19.390625 0 \nL 9.8125 0 \nz\n\" id=\"DejaVuSans-78\"/>\n     </defs>\n     <g transform=\"translate(171.340625 252.916562)scale(0.1 -0.1)\">\n      <use xlink:href=\"#DejaVuSans-86\"/>\n      <use x=\"68.298828\" xlink:href=\"#DejaVuSans-97\"/>\n      <use x=\"129.578125\" xlink:href=\"#DejaVuSans-108\"/>\n      <use x=\"157.361328\" xlink:href=\"#DejaVuSans-117\"/>\n      <use x=\"220.740234\" xlink:href=\"#DejaVuSans-101\"/>\n      <use x=\"282.263672\" xlink:href=\"#DejaVuSans-32\"/>\n      <use x=\"314.050781\" xlink:href=\"#DejaVuSans-111\"/>\n      <use x=\"375.232422\" xlink:href=\"#DejaVuSans-102\"/>\n      <use x=\"410.4375\" xlink:href=\"#DejaVuSans-32\"/>\n      <use x=\"442.224609\" xlink:href=\"#DejaVuSans-75\"/>\n      <use x=\"507.800781\" xlink:href=\"#DejaVuSans-32\"/>\n      <use x=\"539.587891\" xlink:href=\"#DejaVuSans-102\"/>\n      <use x=\"574.792969\" xlink:href=\"#DejaVuSans-111\"/>\n      <use x=\"635.974609\" xlink:href=\"#DejaVuSans-114\"/>\n      <use x=\"677.087891\" xlink:href=\"#DejaVuSans-32\"/>\n      <use x=\"708.875\" xlink:href=\"#DejaVuSans-75\"/>\n      <use x=\"774.451172\" xlink:href=\"#DejaVuSans-78\"/>\n      <use x=\"849.255859\" xlink:href=\"#DejaVuSans-78\"/>\n     </g>\n    </g>\n   </g>\n   <g id=\"matplotlib.axis_2\">\n    <g id=\"ytick_1\">\n     <g id=\"line2d_7\">\n      <defs>\n       <path d=\"M 0 0 \nL -3.5 0 \n\" id=\"m9ace2cb7ca\" style=\"stroke:#000000;stroke-width:0.8;\"/>\n      </defs>\n      <g>\n       <use style=\"stroke:#000000;stroke-width:0.8;\" x=\"50.14375\" xlink:href=\"#m9ace2cb7ca\" y=\"195.426296\"/>\n      </g>\n     </g>\n     <g id=\"text_8\">\n      <!-- 0.36 -->\n      <defs>\n       <path d=\"M 10.6875 12.40625 \nL 21 12.40625 \nL 21 0 \nL 10.6875 0 \nz\n\" id=\"DejaVuSans-46\"/>\n       <path d=\"M 40.578125 39.3125 \nQ 47.65625 37.796875 51.625 33 \nQ 55.609375 28.21875 55.609375 21.1875 \nQ 55.609375 10.40625 48.1875 4.484375 \nQ 40.765625 -1.421875 27.09375 -1.421875 \nQ 22.515625 -1.421875 17.65625 -0.515625 \nQ 12.796875 0.390625 7.625 2.203125 \nL 7.625 11.71875 \nQ 11.71875 9.328125 16.59375 8.109375 \nQ 21.484375 6.890625 26.8125 6.890625 \nQ 36.078125 6.890625 40.9375 10.546875 \nQ 45.796875 14.203125 45.796875 21.1875 \nQ 45.796875 27.640625 41.28125 31.265625 \nQ 36.765625 34.90625 28.71875 34.90625 \nL 20.21875 34.90625 \nL 20.21875 43.015625 \nL 29.109375 43.015625 \nQ 36.375 43.015625 40.234375 45.921875 \nQ 44.09375 48.828125 44.09375 54.296875 \nQ 44.09375 59.90625 40.109375 62.90625 \nQ 36.140625 65.921875 28.71875 65.921875 \nQ 24.65625 65.921875 20.015625 65.03125 \nQ 15.375 64.15625 9.8125 62.3125 \nL 9.8125 71.09375 \nQ 15.4375 72.65625 20.34375 73.4375 \nQ 25.25 74.21875 29.59375 74.21875 \nQ 40.828125 74.21875 47.359375 69.109375 \nQ 53.90625 64.015625 53.90625 55.328125 \nQ 53.90625 49.265625 50.4375 45.09375 \nQ 46.96875 40.921875 40.578125 39.3125 \nz\n\" id=\"DejaVuSans-51\"/>\n       <path d=\"M 33.015625 40.375 \nQ 26.375 40.375 22.484375 35.828125 \nQ 18.609375 31.296875 18.609375 23.390625 \nQ 18.609375 15.53125 22.484375 10.953125 \nQ 26.375 6.390625 33.015625 6.390625 \nQ 39.65625 6.390625 43.53125 10.953125 \nQ 47.40625 15.53125 47.40625 23.390625 \nQ 47.40625 31.296875 43.53125 35.828125 \nQ 39.65625 40.375 33.015625 40.375 \nz\nM 52.59375 71.296875 \nL 52.59375 62.3125 \nQ 48.875 64.0625 45.09375 64.984375 \nQ 41.3125 65.921875 37.59375 65.921875 \nQ 27.828125 65.921875 22.671875 59.328125 \nQ 17.53125 52.734375 16.796875 39.40625 \nQ 19.671875 43.65625 24.015625 45.921875 \nQ 28.375 48.1875 33.59375 48.1875 \nQ 44.578125 48.1875 50.953125 41.515625 \nQ 57.328125 34.859375 57.328125 23.390625 \nQ 57.328125 12.15625 50.6875 5.359375 \nQ 44.046875 -1.421875 33.015625 -1.421875 \nQ 20.359375 -1.421875 13.671875 8.265625 \nQ 6.984375 17.96875 6.984375 36.375 \nQ 6.984375 53.65625 15.1875 63.9375 \nQ 23.390625 74.21875 37.203125 74.21875 \nQ 40.921875 74.21875 44.703125 73.484375 \nQ 48.484375 72.75 52.59375 71.296875 \nz\n\" id=\"DejaVuSans-54\"/>\n      </defs>\n      <g transform=\"translate(20.878125 199.225515)scale(0.1 -0.1)\">\n       <use xlink:href=\"#DejaVuSans-48\"/>\n       <use x=\"63.623047\" xlink:href=\"#DejaVuSans-46\"/>\n       <use x=\"95.410156\" xlink:href=\"#DejaVuSans-51\"/>\n       <use x=\"159.033203\" xlink:href=\"#DejaVuSans-54\"/>\n      </g>\n     </g>\n    </g>\n    <g id=\"ytick_2\">\n     <g id=\"line2d_8\">\n      <g>\n       <use style=\"stroke:#000000;stroke-width:0.8;\" x=\"50.14375\" xlink:href=\"#m9ace2cb7ca\" y=\"160.561479\"/>\n      </g>\n     </g>\n     <g id=\"text_9\">\n      <!-- 0.37 -->\n      <defs>\n       <path d=\"M 8.203125 72.90625 \nL 55.078125 72.90625 \nL 55.078125 68.703125 \nL 28.609375 0 \nL 18.3125 0 \nL 43.21875 64.59375 \nL 8.203125 64.59375 \nz\n\" id=\"DejaVuSans-55\"/>\n      </defs>\n      <g transform=\"translate(20.878125 164.360697)scale(0.1 -0.1)\">\n       <use xlink:href=\"#DejaVuSans-48\"/>\n       <use x=\"63.623047\" xlink:href=\"#DejaVuSans-46\"/>\n       <use x=\"95.410156\" xlink:href=\"#DejaVuSans-51\"/>\n       <use x=\"159.033203\" xlink:href=\"#DejaVuSans-55\"/>\n      </g>\n     </g>\n    </g>\n    <g id=\"ytick_3\">\n     <g id=\"line2d_9\">\n      <g>\n       <use style=\"stroke:#000000;stroke-width:0.8;\" x=\"50.14375\" xlink:href=\"#m9ace2cb7ca\" y=\"125.696661\"/>\n      </g>\n     </g>\n     <g id=\"text_10\">\n      <!-- 0.38 -->\n      <defs>\n       <path d=\"M 31.78125 34.625 \nQ 24.75 34.625 20.71875 30.859375 \nQ 16.703125 27.09375 16.703125 20.515625 \nQ 16.703125 13.921875 20.71875 10.15625 \nQ 24.75 6.390625 31.78125 6.390625 \nQ 38.8125 6.390625 42.859375 10.171875 \nQ 46.921875 13.96875 46.921875 20.515625 \nQ 46.921875 27.09375 42.890625 30.859375 \nQ 38.875 34.625 31.78125 34.625 \nz\nM 21.921875 38.8125 \nQ 15.578125 40.375 12.03125 44.71875 \nQ 8.5 49.078125 8.5 55.328125 \nQ 8.5 64.0625 14.71875 69.140625 \nQ 20.953125 74.21875 31.78125 74.21875 \nQ 42.671875 74.21875 48.875 69.140625 \nQ 55.078125 64.0625 55.078125 55.328125 \nQ 55.078125 49.078125 51.53125 44.71875 \nQ 48 40.375 41.703125 38.8125 \nQ 48.828125 37.15625 52.796875 32.3125 \nQ 56.78125 27.484375 56.78125 20.515625 \nQ 56.78125 9.90625 50.3125 4.234375 \nQ 43.84375 -1.421875 31.78125 -1.421875 \nQ 19.734375 -1.421875 13.25 4.234375 \nQ 6.78125 9.90625 6.78125 20.515625 \nQ 6.78125 27.484375 10.78125 32.3125 \nQ 14.796875 37.15625 21.921875 38.8125 \nz\nM 18.3125 54.390625 \nQ 18.3125 48.734375 21.84375 45.5625 \nQ 25.390625 42.390625 31.78125 42.390625 \nQ 38.140625 42.390625 41.71875 45.5625 \nQ 45.3125 48.734375 45.3125 54.390625 \nQ 45.3125 60.0625 41.71875 63.234375 \nQ 38.140625 66.40625 31.78125 66.40625 \nQ 25.390625 66.40625 21.84375 63.234375 \nQ 18.3125 60.0625 18.3125 54.390625 \nz\n\" id=\"DejaVuSans-56\"/>\n      </defs>\n      <g transform=\"translate(20.878125 129.495879)scale(0.1 -0.1)\">\n       <use xlink:href=\"#DejaVuSans-48\"/>\n       <use x=\"63.623047\" xlink:href=\"#DejaVuSans-46\"/>\n       <use x=\"95.410156\" xlink:href=\"#DejaVuSans-51\"/>\n       <use x=\"159.033203\" xlink:href=\"#DejaVuSans-56\"/>\n      </g>\n     </g>\n    </g>\n    <g id=\"ytick_4\">\n     <g id=\"line2d_10\">\n      <g>\n       <use style=\"stroke:#000000;stroke-width:0.8;\" x=\"50.14375\" xlink:href=\"#m9ace2cb7ca\" y=\"90.831843\"/>\n      </g>\n     </g>\n     <g id=\"text_11\">\n      <!-- 0.39 -->\n      <defs>\n       <path d=\"M 10.984375 1.515625 \nL 10.984375 10.5 \nQ 14.703125 8.734375 18.5 7.8125 \nQ 22.3125 6.890625 25.984375 6.890625 \nQ 35.75 6.890625 40.890625 13.453125 \nQ 46.046875 20.015625 46.78125 33.40625 \nQ 43.953125 29.203125 39.59375 26.953125 \nQ 35.25 24.703125 29.984375 24.703125 \nQ 19.046875 24.703125 12.671875 31.3125 \nQ 6.296875 37.9375 6.296875 49.421875 \nQ 6.296875 60.640625 12.9375 67.421875 \nQ 19.578125 74.21875 30.609375 74.21875 \nQ 43.265625 74.21875 49.921875 64.515625 \nQ 56.59375 54.828125 56.59375 36.375 \nQ 56.59375 19.140625 48.40625 8.859375 \nQ 40.234375 -1.421875 26.421875 -1.421875 \nQ 22.703125 -1.421875 18.890625 -0.6875 \nQ 15.09375 0.046875 10.984375 1.515625 \nz\nM 30.609375 32.421875 \nQ 37.25 32.421875 41.125 36.953125 \nQ 45.015625 41.5 45.015625 49.421875 \nQ 45.015625 57.28125 41.125 61.84375 \nQ 37.25 66.40625 30.609375 66.40625 \nQ 23.96875 66.40625 20.09375 61.84375 \nQ 16.21875 57.28125 16.21875 49.421875 \nQ 16.21875 41.5 20.09375 36.953125 \nQ 23.96875 32.421875 30.609375 32.421875 \nz\n\" id=\"DejaVuSans-57\"/>\n      </defs>\n      <g transform=\"translate(20.878125 94.631061)scale(0.1 -0.1)\">\n       <use xlink:href=\"#DejaVuSans-48\"/>\n       <use x=\"63.623047\" xlink:href=\"#DejaVuSans-46\"/>\n       <use x=\"95.410156\" xlink:href=\"#DejaVuSans-51\"/>\n       <use x=\"159.033203\" xlink:href=\"#DejaVuSans-57\"/>\n      </g>\n     </g>\n    </g>\n    <g id=\"ytick_5\">\n     <g id=\"line2d_11\">\n      <g>\n       <use style=\"stroke:#000000;stroke-width:0.8;\" x=\"50.14375\" xlink:href=\"#m9ace2cb7ca\" y=\"55.967025\"/>\n      </g>\n     </g>\n     <g id=\"text_12\">\n      <!-- 0.40 -->\n      <defs>\n       <path d=\"M 37.796875 64.3125 \nL 12.890625 25.390625 \nL 37.796875 25.390625 \nz\nM 35.203125 72.90625 \nL 47.609375 72.90625 \nL 47.609375 25.390625 \nL 58.015625 25.390625 \nL 58.015625 17.1875 \nL 47.609375 17.1875 \nL 47.609375 0 \nL 37.796875 0 \nL 37.796875 17.1875 \nL 4.890625 17.1875 \nL 4.890625 26.703125 \nz\n\" id=\"DejaVuSans-52\"/>\n      </defs>\n      <g transform=\"translate(20.878125 59.766243)scale(0.1 -0.1)\">\n       <use xlink:href=\"#DejaVuSans-48\"/>\n       <use x=\"63.623047\" xlink:href=\"#DejaVuSans-46\"/>\n       <use x=\"95.410156\" xlink:href=\"#DejaVuSans-52\"/>\n       <use x=\"159.033203\" xlink:href=\"#DejaVuSans-48\"/>\n      </g>\n     </g>\n    </g>\n    <g id=\"ytick_6\">\n     <g id=\"line2d_12\">\n      <g>\n       <use style=\"stroke:#000000;stroke-width:0.8;\" x=\"50.14375\" xlink:href=\"#m9ace2cb7ca\" y=\"21.102207\"/>\n      </g>\n     </g>\n     <g id=\"text_13\">\n      <!-- 0.41 -->\n      <g transform=\"translate(20.878125 24.901425)scale(0.1 -0.1)\">\n       <use xlink:href=\"#DejaVuSans-48\"/>\n       <use x=\"63.623047\" xlink:href=\"#DejaVuSans-46\"/>\n       <use x=\"95.410156\" xlink:href=\"#DejaVuSans-52\"/>\n       <use x=\"159.033203\" xlink:href=\"#DejaVuSans-49\"/>\n      </g>\n     </g>\n    </g>\n    <g id=\"text_14\">\n     <!-- Testing Accuracy -->\n     <defs>\n      <path d=\"M -0.296875 72.90625 \nL 61.375 72.90625 \nL 61.375 64.59375 \nL 35.5 64.59375 \nL 35.5 0 \nL 25.59375 0 \nL 25.59375 64.59375 \nL -0.296875 64.59375 \nz\n\" id=\"DejaVuSans-84\"/>\n      <path d=\"M 44.28125 53.078125 \nL 44.28125 44.578125 \nQ 40.484375 46.53125 36.375 47.5 \nQ 32.28125 48.484375 27.875 48.484375 \nQ 21.1875 48.484375 17.84375 46.4375 \nQ 14.5 44.390625 14.5 40.28125 \nQ 14.5 37.15625 16.890625 35.375 \nQ 19.28125 33.59375 26.515625 31.984375 \nL 29.59375 31.296875 \nQ 39.15625 29.25 43.1875 25.515625 \nQ 47.21875 21.78125 47.21875 15.09375 \nQ 47.21875 7.46875 41.1875 3.015625 \nQ 35.15625 -1.421875 24.609375 -1.421875 \nQ 20.21875 -1.421875 15.453125 -0.5625 \nQ 10.6875 0.296875 5.421875 2 \nL 5.421875 11.28125 \nQ 10.40625 8.6875 15.234375 7.390625 \nQ 20.0625 6.109375 24.8125 6.109375 \nQ 31.15625 6.109375 34.5625 8.28125 \nQ 37.984375 10.453125 37.984375 14.40625 \nQ 37.984375 18.0625 35.515625 20.015625 \nQ 33.0625 21.96875 24.703125 23.78125 \nL 21.578125 24.515625 \nQ 13.234375 26.265625 9.515625 29.90625 \nQ 5.8125 33.546875 5.8125 39.890625 \nQ 5.8125 47.609375 11.28125 51.796875 \nQ 16.75 56 26.8125 56 \nQ 31.78125 56 36.171875 55.265625 \nQ 40.578125 54.546875 44.28125 53.078125 \nz\n\" id=\"DejaVuSans-115\"/>\n      <path d=\"M 18.3125 70.21875 \nL 18.3125 54.6875 \nL 36.8125 54.6875 \nL 36.8125 47.703125 \nL 18.3125 47.703125 \nL 18.3125 18.015625 \nQ 18.3125 11.328125 20.140625 9.421875 \nQ 21.96875 7.515625 27.59375 7.515625 \nL 36.8125 7.515625 \nL 36.8125 0 \nL 27.59375 0 \nQ 17.1875 0 13.234375 3.875 \nQ 9.28125 7.765625 9.28125 18.015625 \nL 9.28125 47.703125 \nL 2.6875 47.703125 \nL 2.6875 54.6875 \nL 9.28125 54.6875 \nL 9.28125 70.21875 \nz\n\" id=\"DejaVuSans-116\"/>\n      <path d=\"M 9.421875 54.6875 \nL 18.40625 54.6875 \nL 18.40625 0 \nL 9.421875 0 \nz\nM 9.421875 75.984375 \nL 18.40625 75.984375 \nL 18.40625 64.59375 \nL 9.421875 64.59375 \nz\n\" id=\"DejaVuSans-105\"/>\n      <path d=\"M 54.890625 33.015625 \nL 54.890625 0 \nL 45.90625 0 \nL 45.90625 32.71875 \nQ 45.90625 40.484375 42.875 44.328125 \nQ 39.84375 48.1875 33.796875 48.1875 \nQ 26.515625 48.1875 22.3125 43.546875 \nQ 18.109375 38.921875 18.109375 30.90625 \nL 18.109375 0 \nL 9.078125 0 \nL 9.078125 54.6875 \nL 18.109375 54.6875 \nL 18.109375 46.1875 \nQ 21.34375 51.125 25.703125 53.5625 \nQ 30.078125 56 35.796875 56 \nQ 45.21875 56 50.046875 50.171875 \nQ 54.890625 44.34375 54.890625 33.015625 \nz\n\" id=\"DejaVuSans-110\"/>\n      <path d=\"M 45.40625 27.984375 \nQ 45.40625 37.75 41.375 43.109375 \nQ 37.359375 48.484375 30.078125 48.484375 \nQ 22.859375 48.484375 18.828125 43.109375 \nQ 14.796875 37.75 14.796875 27.984375 \nQ 14.796875 18.265625 18.828125 12.890625 \nQ 22.859375 7.515625 30.078125 7.515625 \nQ 37.359375 7.515625 41.375 12.890625 \nQ 45.40625 18.265625 45.40625 27.984375 \nz\nM 54.390625 6.78125 \nQ 54.390625 -7.171875 48.1875 -13.984375 \nQ 42 -20.796875 29.203125 -20.796875 \nQ 24.46875 -20.796875 20.265625 -20.09375 \nQ 16.0625 -19.390625 12.109375 -17.921875 \nL 12.109375 -9.1875 \nQ 16.0625 -11.328125 19.921875 -12.34375 \nQ 23.78125 -13.375 27.78125 -13.375 \nQ 36.625 -13.375 41.015625 -8.765625 \nQ 45.40625 -4.15625 45.40625 5.171875 \nL 45.40625 9.625 \nQ 42.625 4.78125 38.28125 2.390625 \nQ 33.9375 0 27.875 0 \nQ 17.828125 0 11.671875 7.65625 \nQ 5.515625 15.328125 5.515625 27.984375 \nQ 5.515625 40.671875 11.671875 48.328125 \nQ 17.828125 56 27.875 56 \nQ 33.9375 56 38.28125 53.609375 \nQ 42.625 51.21875 45.40625 46.390625 \nL 45.40625 54.6875 \nL 54.390625 54.6875 \nz\n\" id=\"DejaVuSans-103\"/>\n      <path d=\"M 34.1875 63.1875 \nL 20.796875 26.90625 \nL 47.609375 26.90625 \nz\nM 28.609375 72.90625 \nL 39.796875 72.90625 \nL 67.578125 0 \nL 57.328125 0 \nL 50.6875 18.703125 \nL 17.828125 18.703125 \nL 11.1875 0 \nL 0.78125 0 \nz\n\" id=\"DejaVuSans-65\"/>\n      <path d=\"M 48.78125 52.59375 \nL 48.78125 44.1875 \nQ 44.96875 46.296875 41.140625 47.34375 \nQ 37.3125 48.390625 33.40625 48.390625 \nQ 24.65625 48.390625 19.8125 42.84375 \nQ 14.984375 37.3125 14.984375 27.296875 \nQ 14.984375 17.28125 19.8125 11.734375 \nQ 24.65625 6.203125 33.40625 6.203125 \nQ 37.3125 6.203125 41.140625 7.25 \nQ 44.96875 8.296875 48.78125 10.40625 \nL 48.78125 2.09375 \nQ 45.015625 0.34375 40.984375 -0.53125 \nQ 36.96875 -1.421875 32.421875 -1.421875 \nQ 20.0625 -1.421875 12.78125 6.34375 \nQ 5.515625 14.109375 5.515625 27.296875 \nQ 5.515625 40.671875 12.859375 48.328125 \nQ 20.21875 56 33.015625 56 \nQ 37.15625 56 41.109375 55.140625 \nQ 45.0625 54.296875 48.78125 52.59375 \nz\n\" id=\"DejaVuSans-99\"/>\n      <path d=\"M 32.171875 -5.078125 \nQ 28.375 -14.84375 24.75 -17.8125 \nQ 21.140625 -20.796875 15.09375 -20.796875 \nL 7.90625 -20.796875 \nL 7.90625 -13.28125 \nL 13.1875 -13.28125 \nQ 16.890625 -13.28125 18.9375 -11.515625 \nQ 21 -9.765625 23.484375 -3.21875 \nL 25.09375 0.875 \nL 2.984375 54.6875 \nL 12.5 54.6875 \nL 29.59375 11.921875 \nL 46.6875 54.6875 \nL 56.203125 54.6875 \nz\n\" id=\"DejaVuSans-121\"/>\n     </defs>\n     <g transform=\"translate(14.798438 158.837969)rotate(-90)scale(0.1 -0.1)\">\n      <use xlink:href=\"#DejaVuSans-84\"/>\n      <use x=\"60.818359\" xlink:href=\"#DejaVuSans-101\"/>\n      <use x=\"122.341797\" xlink:href=\"#DejaVuSans-115\"/>\n      <use x=\"174.441406\" xlink:href=\"#DejaVuSans-116\"/>\n      <use x=\"213.650391\" xlink:href=\"#DejaVuSans-105\"/>\n      <use x=\"241.433594\" xlink:href=\"#DejaVuSans-110\"/>\n      <use x=\"304.8125\" xlink:href=\"#DejaVuSans-103\"/>\n      <use x=\"368.289062\" xlink:href=\"#DejaVuSans-32\"/>\n      <use x=\"400.076172\" xlink:href=\"#DejaVuSans-65\"/>\n      <use x=\"468.46875\" xlink:href=\"#DejaVuSans-99\"/>\n      <use x=\"523.449219\" xlink:href=\"#DejaVuSans-99\"/>\n      <use x=\"578.429688\" xlink:href=\"#DejaVuSans-117\"/>\n      <use x=\"641.808594\" xlink:href=\"#DejaVuSans-114\"/>\n      <use x=\"682.921875\" xlink:href=\"#DejaVuSans-97\"/>\n      <use x=\"744.201172\" xlink:href=\"#DejaVuSans-99\"/>\n      <use x=\"799.181641\" xlink:href=\"#DejaVuSans-121\"/>\n     </g>\n    </g>\n   </g>\n   <g id=\"line2d_13\">\n    <path clip-path=\"url(#pb3fa45eed9)\" d=\"M 65.361932 17.083636 \nL 78.04375 214.756364 \nL 90.725568 153.36154 \nL 103.407386 125.919914 \nL 116.089205 128.710588 \nL 128.771023 131.501262 \nL 141.452841 131.501262 \nL 154.134659 140.803508 \nL 166.816477 131.03615 \nL 179.498295 121.268791 \nL 192.180114 117.547893 \nL 204.861932 102.664299 \nL 217.54375 111.036321 \nL 230.225568 110.106096 \nL 242.907386 127.780364 \nL 255.589205 115.687444 \nL 268.271023 114.757219 \nL 280.952841 111.036321 \nL 293.634659 123.129241 \nL 306.316477 111.036321 \nL 318.998295 104.524749 \nL 331.680114 119.873455 \nL 344.361932 119.408342 \nL 357.04375 119.873455 \nL 369.725568 131.501262 \n\" style=\"fill:none;stroke:#1f77b4;stroke-linecap:square;stroke-width:1.5;\"/>\n   </g>\n   <g id=\"patch_3\">\n    <path d=\"M 50.14375 224.64 \nL 50.14375 7.2 \n\" style=\"fill:none;stroke:#000000;stroke-linecap:square;stroke-linejoin:miter;stroke-width:0.8;\"/>\n   </g>\n   <g id=\"patch_4\">\n    <path d=\"M 384.94375 224.64 \nL 384.94375 7.2 \n\" style=\"fill:none;stroke:#000000;stroke-linecap:square;stroke-linejoin:miter;stroke-width:0.8;\"/>\n   </g>\n   <g id=\"patch_5\">\n    <path d=\"M 50.14375 224.64 \nL 384.94375 224.64 \n\" style=\"fill:none;stroke:#000000;stroke-linecap:square;stroke-linejoin:miter;stroke-width:0.8;\"/>\n   </g>\n   <g id=\"patch_6\">\n    <path d=\"M 50.14375 7.2 \nL 384.94375 7.2 \n\" style=\"fill:none;stroke:#000000;stroke-linecap:square;stroke-linejoin:miter;stroke-width:0.8;\"/>\n   </g>\n  </g>\n </g>\n <defs>\n  <clipPath id=\"pb3fa45eed9\">\n   <rect height=\"217.44\" width=\"334.8\" x=\"50.14375\" y=\"7.2\"/>\n  </clipPath>\n </defs>\n</svg>\n",
      "image/png": "[encoded data removed]"
     },
     "metadata": {
      "needs_background": "light"
     }
    }
   ],
   "source": [
    "#plot the relationship between K and the testing accuracy\n",
    "plt.plot(k_range,scores_list)\n",
    "plt.xlabel('Value of K for KNN')\n",
    "plt.ylabel('Testing Accuracy')"
   ]
  },
  {
   "source": [
    "## 3 - Random Forest"
   ],
   "cell_type": "markdown",
   "metadata": {}
  },
  {
   "cell_type": "code",
   "execution_count": 35,
   "metadata": {},
   "outputs": [],
   "source": [
    "X = numdf_i.drop(columns='genre')\n",
    "y = numdf_i['genre']"
   ]
  },
  {
   "cell_type": "code",
   "execution_count": 36,
   "metadata": {},
   "outputs": [],
   "source": [
    "# splitting the data into training and test sets (80:20)\n",
    "#from sklearn.cross_validation import train_test_split\n",
    "from sklearn.model_selection import train_test_split\n",
    "X_train,X_test,y_train,y_test = train_test_split(X,y,test_size=0.2,random_state=44)"
   ]
  },
  {
   "cell_type": "code",
   "execution_count": 38,
   "metadata": {},
   "outputs": [
    {
     "output_type": "stream",
     "name": "stdout",
     "text": [
      "0.5997865528281751\n"
     ]
    }
   ],
   "source": [
    "from sklearn.ensemble import RandomForestClassifier\n",
    "from sklearn.metrics import accuracy_score\n",
    "\n",
    "rnd_clf = RandomForestClassifier(n_estimators=800, max_leaf_nodes=16, n_jobs=-1, random_state=42)\n",
    "rnd_clf.fit(X_train, y_train)\n",
    "\n",
    "y_pred_rf = rnd_clf.predict(X_test)\n",
    "print(accuracy_score(y_test, y_pred_rf))"
   ]
  },
  {
   "source": [
    "##  4 - AdaBoost"
   ],
   "cell_type": "markdown",
   "metadata": {}
  },
  {
   "cell_type": "code",
   "execution_count": 40,
   "metadata": {},
   "outputs": [],
   "source": [
    "X = numdf_i.drop(columns='genre')\n",
    "y = numdf_i['genre']"
   ]
  },
  {
   "cell_type": "code",
   "execution_count": 41,
   "metadata": {},
   "outputs": [],
   "source": [
    "# splitting the data into training and test sets (80:20)\n",
    "#from sklearn.cross_validation import train_test_split\n",
    "from sklearn.model_selection import train_test_split\n",
    "X_train,X_test,y_train,y_test = train_test_split(X,y,test_size=0.2,random_state=44)"
   ]
  },
  {
   "cell_type": "code",
   "execution_count": 42,
   "metadata": {},
   "outputs": [
    {
     "output_type": "execute_result",
     "data": {
      "text/plain": [
       "AdaBoostClassifier(base_estimator=DecisionTreeClassifier(max_depth=2),\n",
       "                   learning_rate=0.01, n_estimators=200, random_state=42)"
      ]
     },
     "metadata": {},
     "execution_count": 42
    }
   ],
   "source": [
    "from sklearn.ensemble import AdaBoostClassifier\n",
    "from sklearn.tree import DecisionTreeClassifier\n",
    "\n",
    "ada_clf = AdaBoostClassifier(\n",
    "    DecisionTreeClassifier(max_depth=2), n_estimators=200,learning_rate=0.01, random_state=42)\n",
    "ada_clf.fit(X_train, y_train)"
   ]
  },
  {
   "cell_type": "code",
   "execution_count": 43,
   "metadata": {},
   "outputs": [
    {
     "output_type": "stream",
     "name": "stdout",
     "text": [
      "0.48359124866595515\n"
     ]
    }
   ],
   "source": [
    "from sklearn.metrics import accuracy_score\n",
    "y_pred = ada_clf.predict(X_test)\n",
    "print(accuracy_score(y_test, y_pred))"
   ]
  },
  {
   "source": [
    "## 5 - XGBoost"
   ],
   "cell_type": "markdown",
   "metadata": {}
  },
  {
   "cell_type": "code",
   "execution_count": 56,
   "metadata": {},
   "outputs": [],
   "source": [
    "X = numdf_i.drop(columns='genre')\n",
    "y = numdf_i['genre']"
   ]
  },
  {
   "cell_type": "code",
   "execution_count": 57,
   "metadata": {},
   "outputs": [],
   "source": [
    "# Import module to split dataset\n",
    "from sklearn.model_selection import train_test_split\n",
    "# Split data set into training and test sets\n",
    "X_train, X_test, y_train, y_test = train_test_split(X, y, test_size=0.2, random_state=420)"
   ]
  },
  {
   "cell_type": "code",
   "execution_count": 58,
   "metadata": {},
   "outputs": [
    {
     "output_type": "execute_result",
     "data": {
      "text/plain": [
       "XGBClassifier(objective='multi:softprob')"
      ]
     },
     "metadata": {},
     "execution_count": 58
    }
   ],
   "source": [
    "import xgboost\n",
    "xgmodel = xgboost.XGBClassifier()\n",
    "\n",
    "# Fit the model using the training data\n",
    "xgmodel.fit(X_train,y_train)"
   ]
  },
  {
   "cell_type": "code",
   "execution_count": 59,
   "metadata": {},
   "outputs": [
    {
     "output_type": "stream",
     "name": "stdout",
     "text": [
      "0.6814300960512273\n"
     ]
    }
   ],
   "source": [
    "y_pred = xgmodel.predict(X_test)\n",
    "print(accuracy_score(y_test,y_pred))"
   ]
  },
  {
   "cell_type": "code",
   "execution_count": null,
   "metadata": {},
   "outputs": [],
   "source": []
  }
 ]
}